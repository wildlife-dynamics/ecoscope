{
 "cells": [
  {
   "cell_type": "markdown",
   "metadata": {},
   "source": [
    "# Remote Sensing Time Series Anomaly"
   ]
  },
  {
   "cell_type": "markdown",
   "metadata": {},
   "source": [
    "## Setup "
   ]
  },
  {
   "cell_type": "markdown",
   "metadata": {},
   "source": [
    "### Ecoscope"
   ]
  },
  {
   "cell_type": "code",
   "execution_count": null,
   "metadata": {},
   "outputs": [],
   "source": [
    "ECOSCOPE_RAW = \"https://raw.githubusercontent.com/wildlife-dynamics/ecoscope/master\"\n",
    "\n",
    "!pip install ecoscope &> /dev/null"
   ]
  },
  {
   "cell_type": "code",
   "execution_count": null,
   "metadata": {},
   "outputs": [],
   "source": [
    "import os\n",
    "import sys\n",
    "\n",
    "import geopandas as gpd\n",
    "import matplotlib.pyplot as plt\n",
    "import pandas as pd\n",
    "\n",
    "import ecoscope\n",
    "from ecoscope.contrib import geemap\n",
    "\n",
    "ecoscope.init()"
   ]
  },
  {
   "cell_type": "markdown",
   "metadata": {},
   "source": [
    "### Google Drive Setup"
   ]
  },
  {
   "cell_type": "code",
   "execution_count": null,
   "metadata": {},
   "outputs": [],
   "source": [
    "output_dir = \"Ecoscope-Outputs\"\n",
    "\n",
    "if \"google.colab\" in sys.modules:\n",
    "    from google.colab import drive\n",
    "\n",
    "    drive.mount(\"/content/drive/\", force_remount=True)\n",
    "    output_dir = os.path.join(\"/content/drive/MyDrive/\", output_dir)\n",
    "\n",
    "os.makedirs(output_dir, exist_ok=True)"
   ]
  },
  {
   "cell_type": "markdown",
   "metadata": {},
   "source": [
    "### Earth Engine"
   ]
  },
  {
   "cell_type": "code",
   "execution_count": null,
   "metadata": {},
   "outputs": [],
   "source": [
    "import ee\n",
    "\n",
    "try:\n",
    "    EE_ACCOUNT = os.getenv(\"EE_ACCOUNT\")\n",
    "    EE_PRIVATE_KEY_DATA = os.getenv(\"EE_PRIVATE_KEY_DATA\")\n",
    "    if EE_ACCOUNT and EE_PRIVATE_KEY_DATA:\n",
    "        geemap.ee_initialize(credentials=ee.ServiceAccountCredentials(EE_ACCOUNT, key_data=EE_PRIVATE_KEY_DATA))\n",
    "    else:\n",
    "        geemap.ee_initialize()\n",
    "\n",
    "except ee.EEException:\n",
    "    ee.Authenticate()\n",
    "    geemap.ee_initialize()"
   ]
  },
  {
   "cell_type": "markdown",
   "metadata": {},
   "source": [
    "## Load Region Data"
   ]
  },
  {
   "cell_type": "code",
   "execution_count": null,
   "metadata": {},
   "outputs": [],
   "source": [
    "ecoscope.io.download_file(\n",
    "    f\"{ECOSCOPE_RAW}/tests/sample_data/vector/maec_4zones_UTM36S.gpkg\",\n",
    "    os.path.join(output_dir, \"maec_4zones_UTM36S.gpkg\"),\n",
    ")\n",
    "\n",
    "aoi_file = os.path.join(output_dir, \"maec_4zones_UTM36S.gpkg\")\n",
    "regions_gdf = gpd.GeoDataFrame.from_file(aoi_file).to_crs(4326)\n",
    "regions_gdf.set_index(\"ZONE\", drop=True, inplace=True)"
   ]
  },
  {
   "cell_type": "code",
   "execution_count": null,
   "metadata": {},
   "outputs": [],
   "source": [
    "regions_gdf.explore()"
   ]
  },
  {
   "cell_type": "markdown",
   "metadata": {},
   "source": [
    "## Calculate Albedo Anomaly"
   ]
  },
  {
   "cell_type": "code",
   "execution_count": null,
   "metadata": {},
   "outputs": [],
   "source": [
    "result = ecoscope.io.eetools.calculate_anomaly(\n",
    "    gdf=regions_gdf,\n",
    "    img_coll=ee.ImageCollection(\"MODIS/006/MCD43C3\").select(\"Albedo_BSA_vis\"),\n",
    "    historical_start=\"2000-01-01\",\n",
    "    start=\"2010-01-01\",\n",
    "    end=\"2022-01-01\",\n",
    "    scale=5000,\n",
    ")\n",
    "result[\"img_date\"] = pd.to_datetime(result[\"img_date\"])"
   ]
  },
  {
   "cell_type": "markdown",
   "metadata": {},
   "source": [
    "## Optionally Clean Data"
   ]
  },
  {
   "cell_type": "code",
   "execution_count": null,
   "metadata": {},
   "outputs": [],
   "source": [
    "result = result.dropna()\n",
    "result = result.reset_index()"
   ]
  },
  {
   "cell_type": "code",
   "execution_count": null,
   "metadata": {},
   "outputs": [],
   "source": [
    "result"
   ]
  },
  {
   "cell_type": "markdown",
   "metadata": {},
   "source": [
    "## Plot"
   ]
  },
  {
   "cell_type": "code",
   "execution_count": null,
   "metadata": {},
   "outputs": [],
   "source": [
    "fig, ax = plt.subplots(figsize=(25, 10))\n",
    "ax.grid(True)\n",
    "ax.set_ylabel(\"Albedo Anomaly\")\n",
    "ax.set_xlabel(\"Time\")\n",
    "ax.set_title(\"Albedo anomaly 2010-2022 based on mean reference from 2000-2010\")\n",
    "result.groupby(\"ZONE\").apply(lambda df: ax.plot(df[\"img_date\"], df[\"Albedo_BSA_vis\"], label=df.name))\n",
    "ax.legend()"
   ]
  },
  {
   "cell_type": "markdown",
   "metadata": {},
   "source": [
    "## Export to CSV"
   ]
  },
  {
   "cell_type": "code",
   "execution_count": null,
   "metadata": {},
   "outputs": [],
   "source": [
    "result.to_csv(os.path.join(output_dir, \"mara_albedo_anomaly.csv\"), header=True)"
   ]
  }
 ],
 "metadata": {
  "kernelspec": {
   "display_name": "Python 3 (ipykernel)",
   "language": "python",
   "name": "python3"
  },
  "language_info": {
   "codemirror_mode": {
    "name": "ipython",
    "version": 3
   },
   "file_extension": ".py",
   "mimetype": "text/x-python",
   "name": "python",
   "nbconvert_exporter": "python",
   "pygments_lexer": "ipython3",
   "version": "3.10.12"
  }
 },
 "nbformat": 4,
 "nbformat_minor": 4
}
