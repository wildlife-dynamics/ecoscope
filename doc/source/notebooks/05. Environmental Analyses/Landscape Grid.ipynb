{
 "cells": [
  {
   "cell_type": "markdown",
   "metadata": {},
   "source": [
    "# Landscape Grid"
   ]
  },
  {
   "cell_type": "markdown",
   "metadata": {},
   "source": [
    "## Setup"
   ]
  },
  {
   "cell_type": "markdown",
   "metadata": {},
   "source": [
    "### Ecoscope"
   ]
  },
  {
   "cell_type": "code",
   "execution_count": null,
   "metadata": {},
   "outputs": [],
   "source": [
    "ECOSCOPE_RAW = \"https://raw.githubusercontent.com/wildlife-dynamics/ecoscope/master\"\n",
    "\n",
    "!pip install 'ecoscope[analysis,mapping,plotting] @ git+https://github.com/wildlife-dynamics/ecoscope@v1.8.2' &> /dev/null"
   ]
  },
  {
   "cell_type": "code",
   "execution_count": null,
   "metadata": {},
   "outputs": [],
   "source": [
    "import os\n",
    "import sys\n",
    "\n",
    "import geopandas as gpd\n",
    "\n",
    "import ecoscope\n",
    "\n",
    "ecoscope.init()"
   ]
  },
  {
   "cell_type": "markdown",
   "metadata": {},
   "source": [
    "### Google Drive Setup"
   ]
  },
  {
   "cell_type": "code",
   "execution_count": null,
   "metadata": {},
   "outputs": [],
   "source": [
    "output_dir = \"Ecoscope-Outputs\"\n",
    "\n",
    "if \"google.colab\" in sys.modules:\n",
    "    from google.colab import drive\n",
    "\n",
    "    drive.mount(\"/content/drive/\", force_remount=True)\n",
    "    output_dir = os.path.join(\"/content/drive/MyDrive/\", output_dir)\n",
    "\n",
    "os.makedirs(output_dir, exist_ok=True)"
   ]
  },
  {
   "cell_type": "markdown",
   "metadata": {},
   "source": [
    "## Read Sample AOI"
   ]
  },
  {
   "cell_type": "code",
   "execution_count": null,
   "metadata": {},
   "outputs": [],
   "source": [
    "ecoscope.io.download_file(\n",
    "    f\"{ECOSCOPE_RAW}/tests/sample_data/vector/landscape_grid.gpkg\",\n",
    "    os.path.join(output_dir, \"landscape_grid.gpkg\"),\n",
    ")\n",
    "\n",
    "AOI = gpd.read_file(os.path.join(output_dir, \"landscape_grid.gpkg\"), layer=\"AOI\")\n",
    "print(AOI.crs)\n",
    "\n",
    "AOI.explore()"
   ]
  },
  {
   "cell_type": "markdown",
   "metadata": {},
   "source": [
    "## Read Sample Grid"
   ]
  },
  {
   "cell_type": "code",
   "execution_count": null,
   "metadata": {},
   "outputs": [],
   "source": [
    "ecoscope.io.download_file(\n",
    "    f\"{ECOSCOPE_RAW}/tests/sample_data/vector/landscape_grid.gpkg\",\n",
    "    os.path.join(output_dir, \"landscape_grid.gpkg\"),\n",
    ")\n",
    "\n",
    "exist_grid = gpd.read_file(os.path.join(output_dir, \"landscape_grid.gpkg\"), layer=\"existing_grid_1_km\")\n",
    "print(exist_grid.crs)\n",
    "\n",
    "exist_grid.explore()"
   ]
  },
  {
   "cell_type": "markdown",
   "metadata": {},
   "source": [
    "### Remove Empty Geometries in Grid"
   ]
  },
  {
   "cell_type": "code",
   "execution_count": null,
   "metadata": {},
   "outputs": [],
   "source": [
    "def clean_geodataframe(gdf):\n",
    "    return gdf.loc[(~gdf.geometry.isna()) & (~gdf.geometry.is_empty)]\n",
    "\n",
    "\n",
    "exist_grid = clean_geodataframe(exist_grid)\n",
    "\n",
    "any(exist_grid.geometry.isna())"
   ]
  },
  {
   "cell_type": "markdown",
   "metadata": {},
   "source": [
    "## Scenario 1: Create a New Landscape Grid based on AOI"
   ]
  },
  {
   "cell_type": "code",
   "execution_count": null,
   "metadata": {},
   "outputs": [],
   "source": [
    "new_grid_5_km = ecoscope.base.utils.create_meshgrid(\n",
    "    aoi=AOI.unary_union,  # Union of input geometries\n",
    "    in_crs=AOI.crs,\n",
    "    out_crs=4326,\n",
    "    xlen=5000,\n",
    "    ylen=5000,\n",
    "    return_intersecting_only=True,  # Whether only grid cells intersecting the AOI will be returned\n",
    "    align_to_existing=None,\n",
    ")\n",
    "\n",
    "print(new_grid_5_km.crs)\n",
    "\n",
    "new_grid_5_km.explore()"
   ]
  },
  {
   "cell_type": "markdown",
   "metadata": {},
   "source": [
    "Export:"
   ]
  },
  {
   "cell_type": "code",
   "execution_count": null,
   "metadata": {},
   "outputs": [],
   "source": [
    "new_grid_5_km.to_file(os.path.join(output_dir, \"out_landscape_grid.gpkg\"), layer=\"new_grid_5_km\", driver=\"GPKG\")"
   ]
  },
  {
   "cell_type": "markdown",
   "metadata": {},
   "source": [
    "## Scenario 2: Align Grid Cells to Existing Grid to Cover AOI"
   ]
  },
  {
   "cell_type": "code",
   "execution_count": null,
   "metadata": {},
   "outputs": [],
   "source": [
    "new_grid_1_km_aligned = ecoscope.base.utils.create_meshgrid(\n",
    "    aoi=AOI.unary_union,  # Union of input geometries\n",
    "    in_crs=AOI.crs,\n",
    "    out_crs=4326,\n",
    "    xlen=1000,\n",
    "    ylen=1000,\n",
    "    return_intersecting_only=True,  # Whether only grid cells intersecting the AOI will be returned\n",
    "    align_to_existing=exist_grid,\n",
    ")\n",
    "\n",
    "print(new_grid_1_km_aligned.crs)\n",
    "\n",
    "new_grid_1_km_aligned.explore()"
   ]
  },
  {
   "cell_type": "markdown",
   "metadata": {},
   "source": [
    "Export"
   ]
  },
  {
   "cell_type": "code",
   "execution_count": null,
   "metadata": {},
   "outputs": [],
   "source": [
    "new_grid_1_km_aligned.to_file(\n",
    "    os.path.join(output_dir, \"out_landscape_grid.gpkg\"), layer=\"new_grid_1_km_aligned\", driver=\"GPKG\"\n",
    ")"
   ]
  }
 ],
 "metadata": {
  "kernelspec": {
   "display_name": "Python 3 (ipykernel)",
   "language": "python",
   "name": "python3"
  },
  "language_info": {
   "codemirror_mode": {
    "name": "ipython",
    "version": 3
   },
   "file_extension": ".py",
   "mimetype": "text/x-python",
   "name": "python",
   "nbconvert_exporter": "python",
   "pygments_lexer": "ipython3",
   "version": "3.10.12"
  }
 },
 "nbformat": 4,
 "nbformat_minor": 4
}
