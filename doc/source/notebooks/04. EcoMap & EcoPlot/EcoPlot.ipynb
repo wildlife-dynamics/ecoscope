{
 "cells": [
  {
   "cell_type": "markdown",
   "metadata": {},
   "source": [
    "# EcoPlot"
   ]
  },
  {
   "cell_type": "markdown",
   "metadata": {},
   "source": [
    "## Setup"
   ]
  },
  {
   "cell_type": "markdown",
   "metadata": {},
   "source": [
    "### Ecoscope"
   ]
  },
  {
   "cell_type": "code",
   "execution_count": null,
   "metadata": {},
   "outputs": [],
   "source": [
    "ECOSCOPE_RAW = \"https://raw.githubusercontent.com/wildlife-dynamics/ecoscope/master\""
   ]
  },
  {
   "cell_type": "code",
   "execution_count": null,
   "metadata": {},
   "outputs": [],
   "source": [
    "%pip install 'ecoscope[analysis,mapping,plotting] @ git+https://github.com/wildlife-dynamics/ecoscope@v1.8.4' &> /dev/null"
   ]
  },
  {
   "cell_type": "code",
   "execution_count": null,
   "metadata": {},
   "outputs": [],
   "source": [
    "import os\n",
    "import sys\n",
    "\n",
    "import geopandas as gpd\n",
    "import pandas as pd\n",
    "\n",
    "import ecoscope\n",
    "import ecoscope.plotting as plotting\n",
    "\n",
    "ecoscope.init()"
   ]
  },
  {
   "cell_type": "markdown",
   "metadata": {},
   "source": [
    "### Google Drive Setup"
   ]
  },
  {
   "cell_type": "code",
   "execution_count": null,
   "metadata": {},
   "outputs": [],
   "source": [
    "output_dir = \"Ecoscope-Outputs\"\n",
    "\n",
    "if \"google.colab\" in sys.modules:\n",
    "    from google.colab import drive\n",
    "\n",
    "    drive.mount(\"/content/drive/\", force_remount=True)\n",
    "    output_dir = os.path.join(\"/content/drive/MyDrive/\", output_dir)\n",
    "\n",
    "os.makedirs(output_dir, exist_ok=True)"
   ]
  },
  {
   "cell_type": "markdown",
   "metadata": {},
   "source": [
    "## Load Sample `Trajectory`"
   ]
  },
  {
   "cell_type": "code",
   "execution_count": null,
   "metadata": {},
   "outputs": [],
   "source": [
    "# Read csv as Pandas DataFrame\n",
    "ecoscope.io.download_file(\n",
    "    f\"{ECOSCOPE_RAW}/tests/sample_data/vector/er_relocs.csv.zip\",\n",
    "    os.path.join(output_dir, \"er_relocs.csv.zip\"),\n",
    ")\n",
    "\n",
    "data = pd.read_csv(os.path.join(output_dir, \"er_relocs.csv.zip\"), header=0, index_col=0)\n",
    "\n",
    "# Create GeoPandas DataFrame from Pandas DataFrame, parsing the geometry column\n",
    "gdf = gpd.GeoDataFrame(data, geometry=gpd.GeoSeries.from_wkt(data[\"geometry\"], crs=4326))\n",
    "\n",
    "# Create Relocations from the GeoPandas DataFrame\n",
    "relocs = ecoscope.base.Relocations.from_gdf(\n",
    "    gdf,\n",
    ")\n",
    "\n",
    "# Create a Trajectory from the Relocations\n",
    "traj = ecoscope.base.Trajectory.from_relocations(relocs)"
   ]
  },
  {
   "cell_type": "markdown",
   "metadata": {},
   "source": [
    "### EcoPlot Example"
   ]
  },
  {
   "cell_type": "code",
   "execution_count": null,
   "metadata": {},
   "outputs": [],
   "source": [
    "grouped1 = traj[:1000].groupby(\"groupby_col\")\n",
    "grouped2 = traj[2000:3000].groupby(\"groupby_col\")\n",
    "\n",
    "epdata1 = plotting.EcoPlotData(grouped1, \"segment_start\", \"speed_kmhr\", line=dict(color=\"blue\"))\n",
    "epdata2 = plotting.EcoPlotData(grouped2, \"segment_start\", \"speed_kmhr\", line=dict(color=\"blue\"))\n",
    "epdata3 = plotting.EcoPlotData(grouped2, \"segment_start\", \"timespan_seconds\", line=dict(color=\"red\"))\n",
    "\n",
    "plotting.ecoplot([epdata1, epdata2, epdata3], \"My Plot\", os.path.join(output_dir, \"ecoplot_example.png\"))"
   ]
  }
 ],
 "metadata": {
  "kernelspec": {
   "display_name": "Python 3 (ipykernel)",
   "language": "python",
   "name": "python3"
  },
  "language_info": {
   "codemirror_mode": {
    "name": "ipython",
    "version": 3
   },
   "file_extension": ".py",
   "mimetype": "text/x-python",
   "name": "python",
   "nbconvert_exporter": "python",
   "pygments_lexer": "ipython3",
   "version": "3.10.12"
  }
 },
 "nbformat": 4,
 "nbformat_minor": 4
}
