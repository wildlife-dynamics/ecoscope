{
 "cells": [
  {
   "cell_type": "markdown",
   "metadata": {},
   "source": [
    "# EcoGraph"
   ]
  },
  {
   "cell_type": "markdown",
   "metadata": {},
   "source": [
    "## Setup"
   ]
  },
  {
   "cell_type": "markdown",
   "metadata": {},
   "source": [
    "### Ecoscope"
   ]
  },
  {
   "cell_type": "code",
   "execution_count": null,
   "metadata": {},
   "outputs": [],
   "source": [
    "ECOSCOPE_RAW = \"https://raw.githubusercontent.com/wildlife-dynamics/ecoscope/master\"\n",
    "\n",
    "!pip install 'ecoscope[analysis,mapping,plotting] @ git+https://github.com/wildlife-dynamics/ecoscope@v1.8.4' &> /dev/null"
   ]
  },
  {
   "cell_type": "code",
   "execution_count": null,
   "metadata": {},
   "outputs": [],
   "source": [
    "import os\n",
    "import sys\n",
    "\n",
    "import geopandas as gpd\n",
    "import pandas as pd\n",
    "import shapely\n",
    "import sklearn.preprocessing\n",
    "\n",
    "import ecoscope\n",
    "from ecoscope.analysis.ecograph import Ecograph, get_feature_gdf\n",
    "\n",
    "ecoscope.init()"
   ]
  },
  {
   "cell_type": "markdown",
   "metadata": {},
   "source": [
    "### Google Drive Setup"
   ]
  },
  {
   "cell_type": "code",
   "execution_count": null,
   "metadata": {},
   "outputs": [],
   "source": [
    "output_dir = \"Ecoscope-Outputs\"\n",
    "\n",
    "if \"google.colab\" in sys.modules:\n",
    "    from google.colab import drive\n",
    "\n",
    "    drive.mount(\"/content/drive/\", force_remount=True)\n",
    "    output_dir = os.path.join(\"/content/drive/MyDrive/\", output_dir)\n",
    "\n",
    "os.makedirs(output_dir, exist_ok=True)"
   ]
  },
  {
   "cell_type": "markdown",
   "metadata": {},
   "source": [
    "## Load sample `Relocations`"
   ]
  },
  {
   "cell_type": "code",
   "execution_count": null,
   "metadata": {},
   "outputs": [],
   "source": [
    "ecoscope.io.download_file(\n",
    "    f\"{ECOSCOPE_RAW}/tests/sample_data/vector/er_relocs.csv.zip\",\n",
    "    os.path.join(output_dir, \"er_relocs.csv.zip\"),\n",
    ")\n",
    "data = pd.read_csv(os.path.join(output_dir, \"er_relocs.csv.zip\"), header=0, index_col=0)"
   ]
  },
  {
   "cell_type": "code",
   "execution_count": null,
   "metadata": {},
   "outputs": [],
   "source": [
    "gdf = gpd.GeoDataFrame(data, geometry=data[\"geometry\"].apply(lambda x: shapely.wkt.loads(x)), crs=4326)\n",
    "relocs = ecoscope.base.Relocations.from_gdf(gdf)"
   ]
  },
  {
   "cell_type": "markdown",
   "metadata": {},
   "source": [
    "## Create `Trajectory` from `Relocations`"
   ]
  },
  {
   "cell_type": "code",
   "execution_count": null,
   "metadata": {},
   "outputs": [],
   "source": [
    "traj = ecoscope.base.Trajectory.from_relocations(relocs)\n",
    "traj"
   ]
  },
  {
   "cell_type": "markdown",
   "metadata": {},
   "source": [
    "List unique Subjects in `Trajectory`:"
   ]
  },
  {
   "cell_type": "code",
   "execution_count": null,
   "metadata": {},
   "outputs": [],
   "source": [
    "traj[\"groupby_col\"].unique()"
   ]
  },
  {
   "cell_type": "markdown",
   "metadata": {},
   "source": [
    "Visualize:"
   ]
  },
  {
   "cell_type": "code",
   "execution_count": null,
   "metadata": {},
   "outputs": [],
   "source": [
    "traj[\"geometry\"].explore()"
   ]
  },
  {
   "cell_type": "markdown",
   "metadata": {},
   "source": [
    "Filter:"
   ]
  },
  {
   "cell_type": "code",
   "execution_count": null,
   "metadata": {},
   "outputs": [],
   "source": [
    "traj_seg_filter = ecoscope.base.TrajSegFilter(\n",
    "    min_length_meters=0.0,\n",
    "    max_length_meters=50000,\n",
    ")\n",
    "\n",
    "traj.apply_traj_filter(traj_seg_filter, inplace=True)\n",
    "traj.remove_filtered(inplace=True)\n",
    "traj[\"geometry\"].explore()"
   ]
  },
  {
   "cell_type": "markdown",
   "metadata": {},
   "source": [
    "## `EcoGraph`"
   ]
  },
  {
   "cell_type": "markdown",
   "metadata": {},
   "source": [
    "EcoGraph extends the concepts of applying network metrics to wildlife tracking data presented in Bastille-Roussseau et al. (2018) [https://esajournals.onlinelibrary.wiley.com/doi/abs/10.1002/eap.1697]. \n",
    "\n",
    "First, we need to create our EcoGraph object. We need to choose the pixel size (Default : 15 meters). A good value is the mean step length. \n",
    "\n",
    "**Note 1 :** The computation of an EcoGraph can be significantly accelerated through the optional `cutoff` argument. It allows to obtain a more or less precise approximation of the betweenness index for each node of an EcoGraph (the higher the `cutoff` value, the more accurate the approximation will be). When a `cutoff` value is not specified by the user, it is set by default to `None` and the EcoGraph object will compute the true betweenness index values.\n",
    "\n",
    "**Note 2 :** The user can also experiment with the optional `radius` argument. This parameter is used for the computation of the Collective Influence metric (see : https://www.nature.com/articles/nature14604). The default value is set to `2`. See the paper for more info on how the `radius` parameters impacts the computation of the collective influence metric."
   ]
  },
  {
   "cell_type": "code",
   "execution_count": null,
   "metadata": {},
   "outputs": [],
   "source": [
    "mean_step_length = traj[\"dist_meters\"].mean()\n",
    "print(f\"Mean step length : {mean_step_length} meters\")\n",
    "\n",
    "ecograph = Ecograph(traj, resolution=mean_step_length, radius=2, cutoff=None, tortuosity_length=3)"
   ]
  },
  {
   "cell_type": "markdown",
   "metadata": {},
   "source": [
    "The features computed by Ecograph are the following: \n",
    "\n",
    "> **Movement covariates :** \n",
    "\n",
    "*   `dot_product` : Average cosine of the turning angle (radians) for each node\n",
    "*   `step_length` : Average step length (meters) for each node\n",
    "*   `speed` : Average speed (km/hr) for each node\n",
    "*   `sin_time` : Average sine transform of the seconds past midnight of the recorded locations associated with each node. The sine transform of the seconds past midnight of a recorded location is denoted by\n",
    "$$ sin\\_time = \\sin \\left(2\\pi \\cdot \\frac{t}{86400} \\right)$$\n",
    "where $t$ corresponds to the seconds past midnight of one recorded location. \n",
    "*   `cos_time` : Average cosine transform of the seconds past midnight of the recorded locations associated with each node. The cosine transform of the seconds past midnight of a recorded location is denoted by\n",
    "$$ cos\\_time = \\cos \\left(2\\pi \\cdot \\frac{t}{86400} \\right)$$\n",
    "where $t$ corresponds to the seconds past midnight of one recorded location. \n",
    "*   `tortuosity_1` : Average straightness index for each node, as described in (Benhamou, Journal of Theoretical Ecology, 2004). The straightness index of an $N$ steps trajectory (where $N$ is equal to the `tortuosity_length` parameter of the EcoGraph constructor) is denoted by\n",
    "$$ straightness\\_index = \\frac{D}{L} $$\n",
    "where $D$ is the beeline distance between the first and last points in the trajectory, and $L$ is the path length travelled.\n",
    "*   `tortuosity_2` : Average path tortuosity for each node, as described in (Whittington et al., Ecology and Society, 2004). The path tortuosity of an $N$ steps trajectory (where $N$ is equal to the `tortuosity_length` parameter of the EcoGraph constructor) is denoted by\n",
    "$$ path\\_tortuosity = \\log \\left( \\frac{L}{R^{2}} \\right )$$\n",
    "where $L$ is the temporal duration of the trajectory (in hours), and $R$ is the path length travelled.\n",
    "\n",
    "> **Network metrics :**\n",
    "\n",
    "*   `weight` : The weight of each node (How many times a location has been recorded in that node).\n",
    "*   `betweenness` : The betweenness index of each node.\n",
    "*   `degree` : The degree of each node.\n",
    "*   `collective_influence` : The collective influence value of each node\n",
    "\n",
    "The EcoGraph object can export a GeoTIFF raster for each of these metric through the `to_geotiff` function. It takes as an input four parameters:\n",
    "\n",
    "*   `feature`: The feature of interest\n",
    "*   `output_path`: The output path for writing the GeoTIFF file\n",
    "*   `individual` (Optional) : The individual for which we want to output the node feature. The default value is set to `all`\n",
    "*   `interpolation` (Optional) :  The standard EcoGraph approach creates gaps in areas where no locations are observed (only pixels with gps locations in them have values).  This can sometime limit interpretability or the visual appeal of the maps produced. To assist with this, the `interpolation` parameter allows to linearly interpolate each step (i.e. straight line) and assign the network metric of each starting location to the whole step. When multiples overlap in a pixel, a function is applied to summarize\n",
    "these steps, and the user has to choose which kind of summary they want. The default value is `None` (no interpolation applied), but the user can choose one of these four types of interpolation : `mean`, `max`, `min` or `median`.\n",
    "\n",
    "The following code cells shows some examples of the usage of the `to_geotiff` function."
   ]
  },
  {
   "cell_type": "markdown",
   "metadata": {},
   "source": [
    "### Betweenness"
   ]
  },
  {
   "cell_type": "markdown",
   "metadata": {},
   "source": [
    "#### Betweenness index raster, without interpolation"
   ]
  },
  {
   "cell_type": "code",
   "execution_count": null,
   "metadata": {},
   "outputs": [],
   "source": [
    "ecograph.to_geotiff(\n",
    "    \"betweenness\",\n",
    "    os.path.join(output_dir, \"salif_btwn_int.tif\"),\n",
    "    individual=\"1d22ff96-44d4-45c4-adc3-db1513acbe7d\",\n",
    "    interpolation=None,\n",
    ")\n",
    "\n",
    "# Create a GeoDataFrame from feature raster\n",
    "gdf = get_feature_gdf(os.path.join(output_dir, \"salif_btwn_int.tif\"))\n",
    "\n",
    "# Visualize\n",
    "gdf.explore(column=\"value\", cmap=\"viridis\")"
   ]
  },
  {
   "cell_type": "markdown",
   "metadata": {},
   "source": [
    "#### Betweenness index raster, with interpolation"
   ]
  },
  {
   "cell_type": "code",
   "execution_count": null,
   "metadata": {},
   "outputs": [],
   "source": [
    "ecograph.to_geotiff(\n",
    "    \"betweenness\",\n",
    "    os.path.join(output_dir, \"salif_btwn_int.tif\"),\n",
    "    individual=\"1d22ff96-44d4-45c4-adc3-db1513acbe7d\",\n",
    "    interpolation=\"max\",\n",
    ")\n",
    "\n",
    "# Create a geodataframe from the feature raster\n",
    "gdf = get_feature_gdf(os.path.join(output_dir, \"salif_btwn_int.tif\"))\n",
    "\n",
    "# Visualize\n",
    "gdf.explore(column=\"value\", cmap=\"viridis\")"
   ]
  },
  {
   "cell_type": "markdown",
   "metadata": {},
   "source": [
    "#### Betweenness index raster, for all individuals, with interpolation"
   ]
  },
  {
   "cell_type": "code",
   "execution_count": null,
   "metadata": {},
   "outputs": [],
   "source": [
    "ecograph.to_geotiff(\"betweenness\", os.path.join(output_dir, \"all_btwn_int.tif\"), interpolation=\"max\")\n",
    "\n",
    "# Create a geodataframe from the feature raster\n",
    "gdf = get_feature_gdf(os.path.join(output_dir, \"all_btwn_int.tif\"))\n",
    "\n",
    "# Visualize\n",
    "gdf.explore(column=\"value\", cmap=\"viridis\")"
   ]
  },
  {
   "cell_type": "markdown",
   "metadata": {},
   "source": [
    "### Dot-Product"
   ]
  },
  {
   "cell_type": "code",
   "execution_count": null,
   "metadata": {},
   "outputs": [],
   "source": [
    "# Dot product raster, with interpolation\n",
    "ecograph.to_geotiff(\n",
    "    \"dot_product\",\n",
    "    os.path.join(output_dir, \"ramata_dotprod.tif\"),\n",
    "    individual=\"cd26bcf8-5c50-4aea-a888-f7691e1bac81\",\n",
    "    interpolation=\"mean\",\n",
    ")\n",
    "\n",
    "# Create a geodataframe from the feature raster\n",
    "gdf = get_feature_gdf(os.path.join(output_dir, \"ramata_dotprod.tif\"))\n",
    "\n",
    "# Visualize\n",
    "gdf.explore(column=\"value\", cmap=\"viridis\")"
   ]
  },
  {
   "cell_type": "markdown",
   "metadata": {},
   "source": [
    "### Degree"
   ]
  },
  {
   "cell_type": "code",
   "execution_count": null,
   "metadata": {},
   "outputs": [],
   "source": [
    "# Degree raster, with interpolation\n",
    "ecograph.to_geotiff(\n",
    "    \"degree\",\n",
    "    os.path.join(output_dir, \"salif_degree_int.tif\"),\n",
    "    individual=\"1d22ff96-44d4-45c4-adc3-db1513acbe7d\",\n",
    "    interpolation=\"mean\",\n",
    ")\n",
    "\n",
    "# Create a geodataframe from the feature raster\n",
    "gdf = get_feature_gdf(os.path.join(output_dir, \"salif_degree_int.tif\"))\n",
    "\n",
    "# Visualize\n",
    "gdf.explore(column=\"value\", cmap=\"viridis\")"
   ]
  },
  {
   "cell_type": "markdown",
   "metadata": {},
   "source": [
    "### Collective Influence"
   ]
  },
  {
   "cell_type": "code",
   "execution_count": null,
   "metadata": {},
   "outputs": [],
   "source": [
    "# Collective influence raster, with interpolation\n",
    "ecograph.to_geotiff(\n",
    "    \"collective_influence\",\n",
    "    os.path.join(output_dir, \"salif_ci_int.tif\"),\n",
    "    individual=\"1d22ff96-44d4-45c4-adc3-db1513acbe7d\",\n",
    "    interpolation=\"max\",\n",
    ")\n",
    "\n",
    "# Create a geodataframe from the feature raster\n",
    "gdf = get_feature_gdf(os.path.join(output_dir, \"salif_ci_int.tif\"))\n",
    "\n",
    "# Visualize\n",
    "gdf.explore(column=\"value\", cmap=\"viridis\")"
   ]
  },
  {
   "cell_type": "markdown",
   "metadata": {},
   "source": [
    "### Transform a GeoTIFF output "
   ]
  },
  {
   "cell_type": "markdown",
   "metadata": {},
   "source": [
    "Use the optional transform parameter of the `to_geotiff` function to apply one of the sklearn.preprocessing transform (see : https://scikit-learn.org/stable/modules/classes.html#module-sklearn.preprocessing) to the GeoTIFF output"
   ]
  },
  {
   "cell_type": "code",
   "execution_count": null,
   "metadata": {},
   "outputs": [],
   "source": [
    "# Degree raster, with interpolation and standardization\n",
    "ecograph.to_geotiff(\n",
    "    \"degree\",\n",
    "    os.path.join(output_dir, \"salif_degree_mean_std.tif\"),\n",
    "    individual=\"1d22ff96-44d4-45c4-adc3-db1513acbe7d\",\n",
    "    interpolation=\"mean\",\n",
    "    transform=sklearn.preprocessing.StandardScaler(),\n",
    ")\n",
    "\n",
    "# Create a geodataframe from the feature raster\n",
    "gdf = get_feature_gdf(os.path.join(output_dir, \"salif_degree_mean_std.tif\"))\n",
    "gdf.to_feather(os.path.join(output_dir, \"salif_degree_mean_std.feather\"))\n",
    "\n",
    "# Visualize\n",
    "gdf.explore(column=\"value\", cmap=\"viridis\")"
   ]
  },
  {
   "cell_type": "code",
   "execution_count": null,
   "metadata": {},
   "outputs": [],
   "source": [
    "# Degree raster, with interpolation and Min-Max Scaling\n",
    "ecograph.to_geotiff(\n",
    "    \"collective_influence\",\n",
    "    os.path.join(output_dir, \"salif_ci_max_minmax.tif\"),\n",
    "    individual=\"1d22ff96-44d4-45c4-adc3-db1513acbe7d\",\n",
    "    interpolation=\"max\",\n",
    "    transform=sklearn.preprocessing.MinMaxScaler(),\n",
    ")\n",
    "\n",
    "# Create a geodataframe from the feature raster\n",
    "gdf = get_feature_gdf(os.path.join(output_dir, \"salif_ci_max_minmax.tif\"))\n",
    "\n",
    "# Visualize\n",
    "gdf.explore(column=\"value\", cmap=\"viridis\")"
   ]
  },
  {
   "cell_type": "markdown",
   "metadata": {},
   "source": [
    "### Transform a GeoTIFF output "
   ]
  },
  {
   "cell_type": "markdown",
   "metadata": {},
   "source": [
    "### Troubleshooting"
   ]
  },
  {
   "cell_type": "markdown",
   "metadata": {},
   "source": [
    "The `to_geotiff` function will throw an exception if one the parameters is not correctly specified."
   ]
  },
  {
   "cell_type": "code",
   "execution_count": null,
   "metadata": {},
   "outputs": [],
   "source": [
    "# Wrong feature name\n",
    "try:\n",
    "    ecograph.to_geotiff(\n",
    "        \"fjofdojodf\",\n",
    "        os.path.join(output_dir, \"salif_ci_int.tif\"),\n",
    "        individual=\"1d22ff96-44d4-45c4-adc3-db1513acbe7d\",\n",
    "        interpolation=\"max\",\n",
    "    )\n",
    "except ValueError as e:\n",
    "    print(e)"
   ]
  },
  {
   "cell_type": "code",
   "execution_count": null,
   "metadata": {},
   "outputs": [],
   "source": [
    "# Wrong individual name\n",
    "try:\n",
    "    ecograph.to_geotiff(\n",
    "        \"collective_influence\", os.path.join(output_dir, \"salif_ci_int.tif\"), individual=\"ofjoodjo\", interpolation=\"max\"\n",
    "    )\n",
    "except ValueError as e:\n",
    "    print(e)"
   ]
  },
  {
   "cell_type": "code",
   "execution_count": null,
   "metadata": {},
   "outputs": [],
   "source": [
    "# Wrong interpolation type\n",
    "try:\n",
    "    ecograph.to_geotiff(\n",
    "        \"collective_influence\",\n",
    "        os.path.join(output_dir, \"salif_ci_int.tif\"),\n",
    "        individual=\"1d22ff96-44d4-45c4-adc3-db1513acbe7d\",\n",
    "        interpolation=\"dofjojfs\",\n",
    "    )\n",
    "except NotImplementedError as e:\n",
    "    print(e)"
   ]
  },
  {
   "cell_type": "markdown",
   "metadata": {},
   "source": [
    "### Export an EcoGraph to csv"
   ]
  },
  {
   "cell_type": "markdown",
   "metadata": {},
   "source": [
    "For further data analyses on the metric values for each node (eg. clustering, classification, etc.), the `to_csv` function allows to output a CSV file of the feature values for each node in the EcoGraph of each individual in the dataset."
   ]
  },
  {
   "cell_type": "code",
   "execution_count": null,
   "metadata": {},
   "outputs": [],
   "source": [
    "ecograph.to_csv(os.path.join(output_dir, \"features_dataset.csv\"))\n",
    "df = pd.read_csv(os.path.join(output_dir, \"features_dataset.csv\"))\n",
    "df"
   ]
  }
 ],
 "metadata": {
  "kernelspec": {
   "display_name": "Python 3 (ipykernel)",
   "language": "python",
   "name": "python3"
  },
  "language_info": {
   "codemirror_mode": {
    "name": "ipython",
    "version": 3
   },
   "file_extension": ".py",
   "mimetype": "text/x-python",
   "name": "python",
   "nbconvert_exporter": "python",
   "pygments_lexer": "ipython3",
   "version": "3.10.12"
  }
 },
 "nbformat": 4,
 "nbformat_minor": 4
}
