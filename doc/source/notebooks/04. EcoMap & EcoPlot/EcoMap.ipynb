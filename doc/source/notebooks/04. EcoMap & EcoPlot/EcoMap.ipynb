{
 "cells": [
  {
   "cell_type": "markdown",
   "metadata": {},
   "source": [
    "# EcoMap"
   ]
  },
  {
   "cell_type": "markdown",
   "metadata": {},
   "source": [
    "## Setup"
   ]
  },
  {
   "cell_type": "markdown",
   "metadata": {},
   "source": [
    "### Ecoscope"
   ]
  },
  {
   "cell_type": "code",
   "execution_count": null,
   "metadata": {},
   "outputs": [],
   "source": [
    "ECOSCOPE_RAW = \"https://raw.githubusercontent.com/wildlife-dynamics/ecoscope/master\""
   ]
  },
  {
   "cell_type": "code",
   "execution_count": null,
   "metadata": {},
   "outputs": [],
   "source": [
    "%pip install ecoscope &> /dev/null"
   ]
  },
  {
   "cell_type": "code",
   "execution_count": null,
   "metadata": {},
   "outputs": [],
   "source": [
    "import os\n",
    "import sys\n",
    "\n",
    "import geopandas as gpd\n",
    "import numpy as np\n",
    "import pandas as pd\n",
    "import matplotlib as mpl\n",
    "import shapely\n",
    "\n",
    "import ecoscope\n",
    "from ecoscope.contrib import geemap\n",
    "from ecoscope.mapping import EcoMap\n",
    "from ecoscope.analysis.UD import calculate_etd_range\n",
    "from ecoscope.analysis.percentile import get_percentile_area\n",
    "from ecoscope.analysis.astronomy import is_night\n",
    "from lonboard.colormap import apply_categorical_cmap, apply_continuous_cmap\n",
    "\n",
    "ecoscope.init(silent=True)"
   ]
  },
  {
   "cell_type": "markdown",
   "metadata": {},
   "source": [
    "### Google Drive Setup"
   ]
  },
  {
   "cell_type": "code",
   "execution_count": null,
   "metadata": {},
   "outputs": [],
   "source": [
    "output_dir = \"Ecoscope-Outputs\"\n",
    "\n",
    "if \"google.colab\" in sys.modules:\n",
    "    from google.colab import drive\n",
    "\n",
    "    drive.mount(\"/content/drive/\", force_remount=True)\n",
    "    output_dir = os.path.join(\"/content/drive/MyDrive/\", output_dir)\n",
    "\n",
    "os.makedirs(output_dir, exist_ok=True)"
   ]
  },
  {
   "cell_type": "markdown",
   "metadata": {},
   "source": [
    "### Earth Engine"
   ]
  },
  {
   "cell_type": "code",
   "execution_count": null,
   "metadata": {},
   "outputs": [],
   "source": [
    "import ee\n",
    "\n",
    "try:\n",
    "    EE_ACCOUNT = os.getenv(\"EE_ACCOUNT\")\n",
    "    EE_PRIVATE_KEY_DATA = os.getenv(\"EE_PRIVATE_KEY_DATA\")\n",
    "    if EE_ACCOUNT and EE_PRIVATE_KEY_DATA:\n",
    "        geemap.ee_initialize(credentials=ee.ServiceAccountCredentials(EE_ACCOUNT, key_data=EE_PRIVATE_KEY_DATA))\n",
    "    else:\n",
    "        geemap.ee_initialize()\n",
    "\n",
    "except ee.EEException:\n",
    "    ee.Authenticate()\n",
    "    geemap.ee_initialize()"
   ]
  },
  {
   "cell_type": "markdown",
   "metadata": {},
   "source": [
    "## Load sample data"
   ]
  },
  {
   "cell_type": "markdown",
   "metadata": {},
   "source": [
    "### Vehicle tracks"
   ]
  },
  {
   "cell_type": "code",
   "execution_count": null,
   "metadata": {},
   "outputs": [],
   "source": [
    "ecoscope.io.download_file(\n",
    "    f\"{ECOSCOPE_RAW}/tests/sample_data/vector/KDB025Z.csv\",\n",
    "    os.path.join(output_dir, \"KDB025Z.csv\"),\n",
    ")\n",
    "\n",
    "vehicle_gdf = pd.read_csv(os.path.join(output_dir, \"KDB025Z.csv\"), index_col=\"id\")\n",
    "vehicle_gdf[\"geometry\"] = vehicle_gdf[\"geometry\"].apply(lambda x: shapely.wkt.loads(x))\n",
    "vehicle_gdf = ecoscope.base.Relocations.from_gdf(gpd.GeoDataFrame(vehicle_gdf, crs=4326))\n",
    "vehicle_gdf = ecoscope.base.Trajectory.from_relocations(vehicle_gdf)"
   ]
  },
  {
   "cell_type": "markdown",
   "metadata": {},
   "source": [
    "### Elephant Sightings"
   ]
  },
  {
   "cell_type": "code",
   "execution_count": null,
   "metadata": {},
   "outputs": [],
   "source": [
    "ecoscope.io.download_file(\n",
    "    f\"{ECOSCOPE_RAW}/tests/sample_data/vector/elephant_sighting.csv\",\n",
    "    os.path.join(output_dir, \"elephant_sighting.csv\"),\n",
    ")\n",
    "\n",
    "events_df = pd.read_csv(os.path.join(output_dir, \"elephant_sighting.csv\"), index_col=\"id\")\n",
    "events_df[\"geometry\"] = events_df[\"geometry\"].apply(lambda x: shapely.wkt.loads(x))\n",
    "events_gdf = gpd.GeoDataFrame(events_df, crs=4326)"
   ]
  },
  {
   "cell_type": "markdown",
   "metadata": {},
   "source": [
    "### Regions"
   ]
  },
  {
   "cell_type": "code",
   "execution_count": null,
   "metadata": {},
   "outputs": [],
   "source": [
    "ecoscope.io.download_file(\n",
    "    f\"{ECOSCOPE_RAW}/tests/sample_data/vector/maec_4zones_UTM36S.gpkg\",\n",
    "    os.path.join(output_dir, \"maec_4zones_UTM36S.gpkg\"),\n",
    ")\n",
    "\n",
    "region_gdf = gpd.read_file(os.path.join(output_dir, \"maec_4zones_UTM36S.gpkg\")).to_crs(4326)"
   ]
  },
  {
   "cell_type": "markdown",
   "metadata": {},
   "source": [
    "### MoveBank Relocations"
   ]
  },
  {
   "cell_type": "code",
   "execution_count": null,
   "metadata": {},
   "outputs": [],
   "source": [
    "ecoscope.io.download_file(\n",
    "    f\"{ECOSCOPE_RAW}/tests/sample_data/vector/movebank_data.csv\",\n",
    "    os.path.join(output_dir, \"movebank_data.csv\"),\n",
    ")\n",
    "\n",
    "df = pd.read_csv(os.path.join(output_dir, \"movebank_data.csv\"), index_col=0)\n",
    "gdf = gpd.GeoDataFrame(df, geometry=gpd.points_from_xy(x=df[\"location-long\"], y=df[\"location-lat\"]), crs=4326)\n",
    "movebank_relocations_gdf = ecoscope.base.Relocations.from_gdf(\n",
    "    gdf, groupby_col=\"individual-local-identifier\", time_col=\"timestamp\"\n",
    ")\n",
    "\n",
    "pnts_filter = ecoscope.base.RelocsCoordinateFilter(\n",
    "    min_x=-5,\n",
    "    max_x=1,\n",
    "    min_y=12,\n",
    "    max_y=18,\n",
    "    filter_point_coords=[[180, 90], [0, 0]],\n",
    ")\n",
    "movebank_relocations_gdf.apply_reloc_filter(pnts_filter, inplace=True)\n",
    "movebank_relocations_gdf.remove_filtered(inplace=True)"
   ]
  },
  {
   "cell_type": "markdown",
   "metadata": {},
   "source": [
    "## EcoMap"
   ]
  },
  {
   "cell_type": "markdown",
   "metadata": {},
   "source": [
    "### Basic EcoMap"
   ]
  },
  {
   "cell_type": "code",
   "execution_count": null,
   "metadata": {},
   "outputs": [],
   "source": [
    "# Initialize EcoMap by setting the zoom level and center\n",
    "m = EcoMap(height=800, width=1000, static=False)\n",
    "m.set_view_state(latitude=0.0236, longitude=37.9062, zoom=6)\n",
    "\n",
    "# Add tiled base layer\n",
    "m.add_layer(EcoMap.get_named_tile_layer(\"OpenStreetMap\"))\n",
    "\n",
    "# Display\n",
    "m"
   ]
  },
  {
   "cell_type": "markdown",
   "metadata": {},
   "source": [
    "### Elephant Sighting Map"
   ]
  },
  {
   "cell_type": "code",
   "execution_count": null,
   "metadata": {},
   "outputs": [],
   "source": [
    "m = EcoMap(width=800, height=600)\n",
    "\n",
    "# Add tiled base layer\n",
    "m.add_layer(EcoMap.get_named_tile_layer(\"OpenStreetMap\"))\n",
    "\n",
    "# Set DEM visualization parameters\n",
    "vis_params = {\"min\": 0, \"max\": 4000, \"opacity\": 0.5, \"palette\": [\"006633\", \"E5FFCC\", \"662A00\", \"D8D8D8\", \"F5F5F5\"]}\n",
    "\n",
    "# Add Google Earth Engine elevation layer\n",
    "dem = ee.Image(\"USGS/SRTMGL1_003\")\n",
    "m.add_ee_layer(dem.updateMask(dem.gt(0)), vis_params)\n",
    "\n",
    "zone_colors = {\n",
    "    1: EcoMap.hex_to_rgb(\"#7fc97f\"),\n",
    "    2: EcoMap.hex_to_rgb(\"#beaed4\"),\n",
    "    3: EcoMap.hex_to_rgb(\"#fdc086\"),\n",
    "    4: EcoMap.hex_to_rgb(\"#ffff99\"),\n",
    "}\n",
    "cmap = apply_categorical_cmap(region_gdf.ZoneID, zone_colors)\n",
    "m.add_layer(m.polygon_layer(region_gdf, opacity=0.5, get_fill_color=cmap), zoom=True)\n",
    "\n",
    "\n",
    "# Add trajectory\n",
    "m.add_layer(m.polyline_layer(vehicle_gdf, get_width=200, get_color=EcoMap.hex_to_rgb(\"#468af7\")))\n",
    "\n",
    "# Add elephant sighting events\n",
    "m.add_layer(m.point_layer(events_gdf, get_radius=700, get_fill_color=EcoMap.hex_to_rgb(\"#f746ad\")))\n",
    "\n",
    "# Add title\n",
    "m.add_title(\"Elephant Sighting Map\")\n",
    "\n",
    "# Add north-arrow. Placements are: top-right, top-left, bottom-right, bottom-left\n",
    "m.add_north_arrow(placement=\"top-left\")\n",
    "\n",
    "# Add legend\n",
    "m.add_legend(labels=[\"KDB025Z_Tracks\", \"Elephant_Sighting_Events\"], colors=[\"#468af7\", \"#f746ad\"])\n",
    "\n",
    "# Display\n",
    "m"
   ]
  },
  {
   "cell_type": "markdown",
   "metadata": {},
   "source": [
    "### Add local geotiff to a map"
   ]
  },
  {
   "cell_type": "code",
   "execution_count": null,
   "metadata": {},
   "outputs": [],
   "source": [
    "ecoscope.io.download_file(\n",
    "    f\"{ECOSCOPE_RAW}/tests/sample_data/raster/mara_dem.tif\",\n",
    "    os.path.join(output_dir, \"mara_dem.tif\"),\n",
    ")\n",
    "\n",
    "m = EcoMap(width=800, height=600)\n",
    "m.add_layer(EcoMap.get_named_tile_layer(\"OpenStreetMap\"))\n",
    "m.add_geotiff(path=os.path.join(output_dir, \"mara_dem.tif\"), zoom=True, cmap=\"jet\")\n",
    "m"
   ]
  },
  {
   "cell_type": "markdown",
   "metadata": {},
   "source": [
    "## Day-Night Relocations Map"
   ]
  },
  {
   "cell_type": "code",
   "execution_count": null,
   "metadata": {},
   "outputs": [],
   "source": [
    "movebank_relocations_gdf[\"is_night\"] = is_night(movebank_relocations_gdf.geometry, movebank_relocations_gdf.fixtime)\n",
    "\n",
    "movebank_relocations_gdf[[\"groupby_col\", \"fixtime\", \"geometry\", \"is_night\"]]"
   ]
  },
  {
   "cell_type": "code",
   "execution_count": null,
   "metadata": {},
   "outputs": [],
   "source": [
    "m = EcoMap(width=800, height=600)\n",
    "\n",
    "m.add_layer(EcoMap.get_named_tile_layer(\"OpenStreetMap\"))\n",
    "\n",
    "# Add day_night\n",
    "colors = {True: EcoMap.hex_to_rgb(\"#292965\"), False: EcoMap.hex_to_rgb(\"#e7a553\")}\n",
    "colors = apply_categorical_cmap(movebank_relocations_gdf.is_night, colors)\n",
    "m.add_layer(m.point_layer(movebank_relocations_gdf, get_radius=700, get_fill_color=colors), zoom=True)\n",
    "\n",
    "m.add_legend(title=\"Is Night\", labels=[\"True\", \"False\"], colors=[\"#292965\", \"#e7a553\"])\n",
    "m.add_north_arrow(placement=\"top-left\")\n",
    "m.add_title(\"Day-Night Relocations\")\n",
    "\n",
    "m"
   ]
  },
  {
   "cell_type": "markdown",
   "metadata": {},
   "source": [
    "## Day-Night Trajectory Map"
   ]
  },
  {
   "cell_type": "code",
   "execution_count": null,
   "metadata": {},
   "outputs": [],
   "source": [
    "movebank_trajectory_gdf = ecoscope.base.Trajectory.from_relocations(movebank_relocations_gdf)\n",
    "movebank_traj_seg_filter = ecoscope.base.TrajSegFilter(\n",
    "    min_length_meters=0.0,\n",
    "    max_length_meters=float(\"inf\"),\n",
    "    min_time_secs=0.0,\n",
    "    max_time_secs=4 * 60 * 60,\n",
    "    min_speed_kmhr=0.0,\n",
    "    max_speed_kmhr=10.0,\n",
    ")\n",
    "movebank_trajectory_gdf.apply_traj_filter(movebank_traj_seg_filter, inplace=True)"
   ]
  },
  {
   "cell_type": "code",
   "execution_count": null,
   "metadata": {},
   "outputs": [],
   "source": [
    "m = EcoMap(width=800, height=600)\n",
    "\n",
    "m.add_layer(EcoMap.get_named_tile_layer(\"OpenStreetMap\"))\n",
    "\n",
    "# Add day_night\n",
    "colors = {True: EcoMap.hex_to_rgb(\"#292965\"), False: EcoMap.hex_to_rgb(\"#e7a553\")}\n",
    "colors = apply_categorical_cmap(movebank_trajectory_gdf.extra__is_night, colors)\n",
    "m.add_layer(m.polyline_layer(movebank_trajectory_gdf, get_width=200, get_color=colors), zoom=True)\n",
    "\n",
    "m.add_legend(title=\"Is Night\", labels=[\"True\", \"False\"], colors=[\"#292965\", \"#e7a553\"])\n",
    "m.add_north_arrow(placement=\"top-left\")\n",
    "m.add_title(\"Day-Night Relocations\")\n",
    "\n",
    "m"
   ]
  },
  {
   "cell_type": "markdown",
   "metadata": {},
   "source": [
    "## ETD Range"
   ]
  },
  {
   "cell_type": "code",
   "execution_count": null,
   "metadata": {},
   "outputs": [],
   "source": [
    "raster_profile = ecoscope.io.raster.RasterProfile(\n",
    "    pixel_size=250.0,  # You may need to reduce grid size if you receive a warning during the calculation\n",
    "    crs=\"ESRI:102022\",  # Albers Africa Equal Area Conic\n",
    "    nodata_value=np.nan,\n",
    "    band_count=1,\n",
    ")"
   ]
  },
  {
   "cell_type": "code",
   "execution_count": null,
   "metadata": {},
   "outputs": [],
   "source": [
    "def f(trajectory_gdf):\n",
    "    output_path = os.path.join(output_dir, f\"{trajectory_gdf.name}.tif\")\n",
    "\n",
    "    calculate_etd_range(\n",
    "        trajectory_gdf=trajectory_gdf,\n",
    "        output_path=output_path,\n",
    "        max_speed_kmhr=1.05 * trajectory_gdf.speed_kmhr.max(),  # Choose a value above the max recorded segment speed\n",
    "        raster_profile=raster_profile,\n",
    "        expansion_factor=1.3,\n",
    "    )\n",
    "    return output_path\n",
    "\n",
    "\n",
    "etd = movebank_trajectory_gdf.groupby(\"groupby_col\").apply(f)"
   ]
  },
  {
   "cell_type": "code",
   "execution_count": null,
   "metadata": {},
   "outputs": [],
   "source": [
    "percentile_areas = get_percentile_area(\n",
    "    percentile_levels=[50, 60, 70, 80, 90, 99.9], raster_path=etd.at[\"Salif Keita\"], subject_id=\"Salif Keita\"\n",
    ").to_crs(4326)\n",
    "\n",
    "m = EcoMap(width=800, height=600, static=True)\n",
    "m.add_layer(EcoMap.get_named_tile_layer(\"OpenStreetMap\"))\n",
    "\n",
    "\n",
    "col = percentile_areas[\"percentile\"]\n",
    "normalized = (col - col.min()) / (col.max() - col.min())\n",
    "colormap = apply_continuous_cmap(normalized, mpl.colormaps[\"RdYlGn\"])\n",
    "\n",
    "m.add_layer(m.polygon_layer(percentile_areas, get_fill_color=colormap), zoom=True)\n",
    "\n",
    "m.add_north_arrow(placement=\"top-left\")\n",
    "m.add_title(\"Salif ETD Range\")\n",
    "\n",
    "m"
   ]
  },
  {
   "cell_type": "markdown",
   "metadata": {},
   "source": [
    "## Export"
   ]
  },
  {
   "cell_type": "markdown",
   "metadata": {},
   "source": [
    "### As HTML"
   ]
  },
  {
   "cell_type": "code",
   "execution_count": null,
   "metadata": {},
   "outputs": [],
   "source": [
    "m.to_html(os.path.join(output_dir, \"ecomap.html\"))"
   ]
  }
 ],
 "metadata": {
  "kernelspec": {
   "display_name": "Python 3 (ipykernel)",
   "language": "python",
   "name": "python3"
  },
  "language_info": {
   "codemirror_mode": {
    "name": "ipython",
    "version": 3
   },
   "file_extension": ".py",
   "mimetype": "text/x-python",
   "name": "python",
   "nbconvert_exporter": "python",
   "pygments_lexer": "ipython3",
   "version": "3.12.3"
  }
 },
 "nbformat": 4,
 "nbformat_minor": 4
}
