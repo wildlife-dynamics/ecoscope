{
 "cells": [
  {
   "cell_type": "markdown",
   "metadata": {},
   "source": [
    "# Tracking Data Gantt Chart"
   ]
  },
  {
   "cell_type": "markdown",
   "metadata": {},
   "source": [
    "## Setup"
   ]
  },
  {
   "cell_type": "markdown",
   "metadata": {},
   "source": [
    "### Ecoscope"
   ]
  },
  {
   "cell_type": "code",
   "execution_count": null,
   "metadata": {},
   "outputs": [],
   "source": [
    "ECOSCOPE_RAW = \"https://raw.githubusercontent.com/wildlife-dynamics/ecoscope/master\"\n",
    "\n",
    "!pip install 'ecoscope[analysis,mapping,plotting] @ git+https://github.com/wildlife-dynamics/ecoscope@v1.8.2' &> /dev/null"
   ]
  },
  {
   "cell_type": "code",
   "execution_count": null,
   "metadata": {},
   "outputs": [],
   "source": [
    "import os\n",
    "import sys\n",
    "\n",
    "import geopandas as gpd\n",
    "import pandas as pd\n",
    "\n",
    "import ecoscope\n",
    "import ecoscope.plotting as plotting\n",
    "\n",
    "ecoscope.init()"
   ]
  },
  {
   "cell_type": "markdown",
   "metadata": {},
   "source": [
    "### Google Drive Setup"
   ]
  },
  {
   "cell_type": "code",
   "execution_count": null,
   "metadata": {},
   "outputs": [],
   "source": [
    "output_dir = \"Ecoscope-Outputs\"\n",
    "\n",
    "if \"google.colab\" in sys.modules:\n",
    "    from google.colab import drive\n",
    "\n",
    "    drive.mount(\"/content/drive/\", force_remount=True)\n",
    "    output_dir = os.path.join(\"/content/drive/MyDrive/\", output_dir)\n",
    "\n",
    "os.makedirs(output_dir, exist_ok=True)"
   ]
  },
  {
   "cell_type": "markdown",
   "metadata": {},
   "source": [
    "## Trajectory"
   ]
  },
  {
   "cell_type": "code",
   "execution_count": null,
   "metadata": {},
   "outputs": [],
   "source": [
    "# Open CSV as Pandas DataFrame\n",
    "ecoscope.io.download_file(\n",
    "    f\"{ECOSCOPE_RAW}/tests/sample_data/vector/er_relocs.csv.zip\",\n",
    "    os.path.join(output_dir, \"er_relocs.csv.zip\"),\n",
    ")\n",
    "\n",
    "data = pd.read_csv(os.path.join(output_dir, \"er_relocs.csv.zip\"), header=0, index_col=0)\n",
    "\n",
    "# Create GeoPandas DataFrame from Pandas DataFrame, parsing the geometry column\n",
    "gdf = gpd.GeoDataFrame(data, geometry=gpd.GeoSeries.from_wkt(data[\"geometry\"], crs=4326))\n",
    "\n",
    "\n",
    "# Create Relocations from the GeoPandas DataFrame\n",
    "relocs = ecoscope.base.Relocations.from_gdf(gdf)\n",
    "\n",
    "# Create Trajectory from Relocations\n",
    "traj = ecoscope.base.Trajectory.from_relocations(relocs)"
   ]
  },
  {
   "cell_type": "markdown",
   "metadata": {},
   "source": [
    "## EcoPlot Example"
   ]
  },
  {
   "cell_type": "markdown",
   "metadata": {},
   "source": [
    "Calculate the number of trajectory segments by month by subject"
   ]
  },
  {
   "cell_type": "code",
   "execution_count": null,
   "metadata": {},
   "outputs": [],
   "source": [
    "df = (\n",
    "    traj[[\"segment_start\", \"extra__subject__name\"]]\n",
    "    .groupby([traj[\"extra__subject__name\"], pd.Grouper(key=\"segment_start\", freq=\"MS\")])\n",
    "    .apply(len)\n",
    "    .rename(\"count\")\n",
    "    .reset_index()\n",
    ")"
   ]
  },
  {
   "cell_type": "markdown",
   "metadata": {},
   "source": [
    "Create a dict for styles for each groupby val"
   ]
  },
  {
   "cell_type": "code",
   "execution_count": null,
   "metadata": {},
   "outputs": [],
   "source": [
    "# https://plotly.com/python-api-reference/generated/plotly.graph_objects.Scatter.html\n",
    "\n",
    "line_style = (\n",
    "    traj.groupby([\"extra__subject__name\"])[\"extra__subject__hex\"]\n",
    "    .first()\n",
    "    .apply(lambda x: {\"line\": {\"color\": x}})\n",
    "    .to_dict()\n",
    ")\n",
    "line_style"
   ]
  },
  {
   "cell_type": "markdown",
   "metadata": {},
   "source": [
    "Use EcoPlot to create a multi-panel graph (one panel per subject) displaying the monthly data counts calculated previously and using the defined line style"
   ]
  },
  {
   "cell_type": "code",
   "execution_count": null,
   "metadata": {},
   "outputs": [],
   "source": [
    "grouped = df.groupby(\"extra__subject__name\")\n",
    "epdata = plotting.plot.EcoPlotData(\n",
    "    grouped,\n",
    "    \"segment_start\",\n",
    "    \"count\",\n",
    "    groupby_style=line_style,\n",
    ")\n",
    "\n",
    "fig = plotting.plot.ecoplot(\n",
    "    data=[epdata],\n",
    "    title=\"Tracking Data Gantt Chart\",\n",
    "    out_path=os.path.join(output_dir, \"tracking_data_gantt_chart.png\"),\n",
    "    # subplot_height=200,\n",
    "    # subplot_width=1200,\n",
    "    # vertical_spacing=0.1,\n",
    "    annotate_name_pos=(0.99, 0.1),\n",
    "    shared_yaxes=\"all\",\n",
    "    y_title=\"Monthly Data Count\",\n",
    "    x_title=\"Time\",\n",
    "    layout_kwargs={\n",
    "        \"width\": 1200,\n",
    "        \"showlegend\": True,\n",
    "    },\n",
    ")\n",
    "\n",
    "fig"
   ]
  }
 ],
 "metadata": {
  "kernelspec": {
   "display_name": "Python 3 (ipykernel)",
   "language": "python",
   "name": "python3"
  },
  "language_info": {
   "codemirror_mode": {
    "name": "ipython",
    "version": 3
   },
   "file_extension": ".py",
   "mimetype": "text/x-python",
   "name": "python",
   "nbconvert_exporter": "python",
   "pygments_lexer": "ipython3",
   "version": "3.10.12"
  }
 },
 "nbformat": 4,
 "nbformat_minor": 4
}
