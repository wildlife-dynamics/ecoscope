{
 "cells": [
  {
   "cell_type": "markdown",
   "metadata": {},
   "source": [
    "# EcoMap"
   ]
  },
  {
   "cell_type": "markdown",
   "metadata": {},
   "source": [
    "## Setup"
   ]
  },
  {
   "cell_type": "markdown",
   "metadata": {},
   "source": [
    "### Ecoscope"
   ]
  },
  {
   "cell_type": "code",
   "execution_count": null,
   "metadata": {},
   "outputs": [],
   "source": [
    "ECOSCOPE_RAW = \"https://raw.githubusercontent.com/wildlife-dynamics/ecoscope/master\""
   ]
  },
  {
   "cell_type": "code",
   "execution_count": null,
   "metadata": {},
   "outputs": [],
   "source": [
    "%pip install ecoscope &> /dev/null"
   ]
  },
  {
   "cell_type": "code",
   "execution_count": null,
   "metadata": {},
   "outputs": [],
   "source": [
    "import os\n",
    "import sys\n",
    "\n",
    "import geopandas as gpd\n",
    "import numpy as np\n",
    "import pandas as pd\n",
    "import shapely\n",
    "\n",
    "import ecoscope\n",
    "from ecoscope.contrib import geemap\n",
    "\n",
    "ecoscope.init(selenium=True, silent=True)"
   ]
  },
  {
   "cell_type": "markdown",
   "metadata": {},
   "source": [
    "### Google Drive Setup"
   ]
  },
  {
   "cell_type": "code",
   "execution_count": null,
   "metadata": {},
   "outputs": [],
   "source": [
    "output_dir = \"Ecoscope-Outputs\"\n",
    "\n",
    "if \"google.colab\" in sys.modules:\n",
    "    from google.colab import drive\n",
    "\n",
    "    drive.mount(\"/content/drive/\", force_remount=True)\n",
    "    output_dir = os.path.join(\"/content/drive/MyDrive/\", output_dir)\n",
    "\n",
    "os.makedirs(output_dir, exist_ok=True)"
   ]
  },
  {
   "cell_type": "markdown",
   "metadata": {},
   "source": [
    "### Earth Engine"
   ]
  },
  {
   "cell_type": "code",
   "execution_count": null,
   "metadata": {},
   "outputs": [],
   "source": [
    "import ee\n",
    "\n",
    "try:\n",
    "    EE_ACCOUNT = os.getenv(\"EE_ACCOUNT\")\n",
    "    EE_PRIVATE_KEY_DATA = os.getenv(\"EE_PRIVATE_KEY_DATA\")\n",
    "    if EE_ACCOUNT and EE_PRIVATE_KEY_DATA:\n",
    "        geemap.ee_initialize(credentials=ee.ServiceAccountCredentials(EE_ACCOUNT, key_data=EE_PRIVATE_KEY_DATA))\n",
    "    else:\n",
    "        geemap.ee_initialize()\n",
    "\n",
    "except ee.EEException:\n",
    "    ee.Authenticate()\n",
    "    geemap.ee_initialize()"
   ]
  },
  {
   "cell_type": "markdown",
   "metadata": {},
   "source": [
    "## Load sample data"
   ]
  },
  {
   "cell_type": "markdown",
   "metadata": {},
   "source": [
    "### Vehicle tracks"
   ]
  },
  {
   "cell_type": "code",
   "execution_count": null,
   "metadata": {},
   "outputs": [],
   "source": [
    "ecoscope.io.download_file(\n",
    "    f\"{ECOSCOPE_RAW}/tests/sample_data/vector/KDB025Z.csv\",\n",
    "    os.path.join(output_dir, \"KDB025Z.csv\"),\n",
    ")\n",
    "\n",
    "vehicle_gdf = pd.read_csv(os.path.join(output_dir, \"KDB025Z.csv\"), index_col=\"id\")\n",
    "vehicle_gdf[\"geometry\"] = vehicle_gdf[\"geometry\"].apply(lambda x: shapely.wkt.loads(x))\n",
    "vehicle_gdf = ecoscope.base.Relocations.from_gdf(gpd.GeoDataFrame(vehicle_gdf, crs=4326))\n",
    "vehicle_gdf = ecoscope.base.Trajectory.from_relocations(vehicle_gdf)"
   ]
  },
  {
   "cell_type": "markdown",
   "metadata": {},
   "source": [
    "### Elephant Sightings"
   ]
  },
  {
   "cell_type": "code",
   "execution_count": null,
   "metadata": {},
   "outputs": [],
   "source": [
    "ecoscope.io.download_file(\n",
    "    f\"{ECOSCOPE_RAW}/tests/sample_data/vector/elephant_sighting.csv\",\n",
    "    os.path.join(output_dir, \"elephant_sighting.csv\"),\n",
    ")\n",
    "\n",
    "events_df = pd.read_csv(os.path.join(output_dir, \"elephant_sighting.csv\"), index_col=\"id\")\n",
    "events_df[\"geometry\"] = events_df[\"geometry\"].apply(lambda x: shapely.wkt.loads(x))\n",
    "events_gdf = gpd.GeoDataFrame(events_df, crs=4326)"
   ]
  },
  {
   "cell_type": "markdown",
   "metadata": {},
   "source": [
    "### Regions"
   ]
  },
  {
   "cell_type": "code",
   "execution_count": null,
   "metadata": {},
   "outputs": [],
   "source": [
    "ecoscope.io.download_file(\n",
    "    f\"{ECOSCOPE_RAW}/tests/sample_data/vector/maec_4zones_UTM36S.gpkg\",\n",
    "    os.path.join(output_dir, \"maec_4zones_UTM36S.gpkg\"),\n",
    ")\n",
    "\n",
    "region_gdf = gpd.read_file(os.path.join(output_dir, \"maec_4zones_UTM36S.gpkg\")).to_crs(4326)"
   ]
  },
  {
   "cell_type": "markdown",
   "metadata": {},
   "source": [
    "### MovBank Relocations"
   ]
  },
  {
   "cell_type": "code",
   "execution_count": null,
   "metadata": {},
   "outputs": [],
   "source": [
    "ecoscope.io.download_file(\n",
    "    f\"{ECOSCOPE_RAW}/tests/sample_data/vector/movbank_data.csv\",\n",
    "    os.path.join(output_dir, \"movbank_data.csv\"),\n",
    ")\n",
    "\n",
    "df = pd.read_csv(os.path.join(output_dir, \"movbank_data.csv\"), index_col=0)\n",
    "gdf = gpd.GeoDataFrame(df, geometry=gpd.points_from_xy(x=df[\"location-long\"], y=df[\"location-lat\"]), crs=4326)\n",
    "movbank_relocations_gdf = ecoscope.base.Relocations.from_gdf(\n",
    "    gdf, groupby_col=\"individual-local-identifier\", time_col=\"timestamp\"\n",
    ")\n",
    "\n",
    "pnts_filter = ecoscope.base.RelocsCoordinateFilter(\n",
    "    min_x=-5,\n",
    "    max_x=1,\n",
    "    min_y=12,\n",
    "    max_y=18,\n",
    "    filter_point_coords=[[180, 90], [0, 0]],\n",
    ")\n",
    "movbank_relocations_gdf.apply_reloc_filter(pnts_filter, inplace=True)\n",
    "movbank_relocations_gdf.remove_filtered(inplace=True)"
   ]
  },
  {
   "cell_type": "markdown",
   "metadata": {},
   "source": [
    "## EcoMap"
   ]
  },
  {
   "cell_type": "markdown",
   "metadata": {},
   "source": [
    "### Basic Two-Layer EcoMap"
   ]
  },
  {
   "cell_type": "code",
   "execution_count": null,
   "metadata": {},
   "outputs": [],
   "source": [
    "# Initialize EcoMap by setting the zoom level and center\n",
    "m = ecoscope.mapping.EcoMap(center=(0.0236, 37.9062), zoom=6, height=800, width=1000, static=False)\n",
    "\n",
    "# Add two tiled basemaps (OSM and Google satellite)\n",
    "m.add_basemap(\"OpenStreetMap\")\n",
    "m.add_tile_layer(\n",
    "    url=\"https://mt1.google.com/vt/lyrs=y&x={x}&y={y}&z={z}\",\n",
    "    name=\"Google Satellite\",\n",
    "    attribution=\"Google\",\n",
    "    opacity=0.5,\n",
    ")\n",
    "\n",
    "# Display\n",
    "m"
   ]
  },
  {
   "cell_type": "markdown",
   "metadata": {},
   "source": [
    "### Elephant Sighting Map"
   ]
  },
  {
   "cell_type": "code",
   "execution_count": null,
   "metadata": {},
   "outputs": [],
   "source": [
    "m = ecoscope.mapping.EcoMap(width=800, height=600)\n",
    "\n",
    "# Add two tiled basemaps (OSM and Google Satellite Hybrid)\n",
    "m.add_basemap(\"OpenStreetMap\")\n",
    "m.add_basemap(\"HYBRID\")\n",
    "\n",
    "# Set DEM visualization parameters\n",
    "vis_params = {\"min\": 0, \"max\": 4000, \"opacity\": 0.5, \"palette\": [\"006633\", \"E5FFCC\", \"662A00\", \"D8D8D8\", \"F5F5F5\"]}\n",
    "\n",
    "# Add Google Earth Engine elevation layer\n",
    "dem = ee.Image(\"USGS/SRTMGL1_003\")\n",
    "m.add_ee_layer(dem.updateMask(dem.gt(0)), vis_params, \"DEM\")\n",
    "\n",
    "# Zoom in and add regions outlines\n",
    "m.zoom_to_gdf(region_gdf)\n",
    "m.add_gdf(\n",
    "    region_gdf,\n",
    "    style_kwds={\"fillOpacity\": 0.1, \"opacity\": 0.5, \"color\": \"black\"},\n",
    "    color=[\"#7fc97f\", \"#beaed4\", \"#fdc086\", \"#ffff99\"],\n",
    ")\n",
    "\n",
    "# Add trajectory\n",
    "vehicle_gdf.geometry.explore(m=m, color=\"#468af7\")\n",
    "\n",
    "# Add elephant sighting events\n",
    "m.add_gdf(\n",
    "    events_gdf[[\"geometry\", \"serial_number\", \"location\", \"title\", \"event_type\"]],\n",
    "    color=\"#f746ad\",\n",
    "    marker_type=\"circle_marker\",\n",
    "    marker_kwds={\"radius\": 7, \"fill\": True, \"draggable\": False},\n",
    ")\n",
    "\n",
    "# Add title\n",
    "m.add_title(title=\"Elephant Sighting Map\", align=\"center\", font_size=\"18px\")\n",
    "\n",
    "# Add north-arrow. Positions are: topright, topleft, bottomright, bottomleft\n",
    "m.add_north_arrow(position=\"topright\", scale=1, angle=0)\n",
    "\n",
    "# Add legend\n",
    "m.add_legend(\n",
    "    legend_dict={\"KDB025Z_Tracks\": \"468af7\", \"Elephant_Sighting_Events\": \"f746ad\"},\n",
    "    box_position={\"bottom\": \"20px\", \"right\": \"20px\"},\n",
    ")\n",
    "\n",
    "# Display\n",
    "m"
   ]
  },
  {
   "cell_type": "markdown",
   "metadata": {},
   "source": [
    "### Add local geotiff to a map"
   ]
  },
  {
   "cell_type": "code",
   "execution_count": null,
   "metadata": {},
   "outputs": [],
   "source": [
    "ecoscope.io.download_file(\n",
    "    f\"{ECOSCOPE_RAW}/tests/sample_data/raster/mara_dem.tif\",\n",
    "    os.path.join(output_dir, \"mara_dem.tif\"),\n",
    ")\n",
    "\n",
    "m = ecoscope.mapping.EcoMap(width=800, height=600)\n",
    "m.add_local_geotiff(path=os.path.join(output_dir, \"mara_dem.tif\"), zoom=True, cmap=\"jet\", colorbar=True)\n",
    "m"
   ]
  },
  {
   "cell_type": "markdown",
   "metadata": {},
   "source": [
    "## Day-Night Relocations Map"
   ]
  },
  {
   "cell_type": "code",
   "execution_count": null,
   "metadata": {},
   "outputs": [],
   "source": [
    "movbank_relocations_gdf[\"is_night\"] = ecoscope.analysis.astronomy.is_night(\n",
    "    movbank_relocations_gdf.geometry, movbank_relocations_gdf.fixtime\n",
    ")\n",
    "\n",
    "movbank_relocations_gdf[[\"groupby_col\", \"fixtime\", \"geometry\", \"is_night\"]]"
   ]
  },
  {
   "cell_type": "code",
   "execution_count": null,
   "metadata": {},
   "outputs": [],
   "source": [
    "colors = [\"#292965\" if is_night else \"#e7a553\" for is_night in movbank_relocations_gdf.is_night]\n",
    "\n",
    "m = movbank_relocations_gdf[[\"groupby_col\", \"fixtime\", \"geometry\", \"is_night\"]].explore(\n",
    "    m=ecoscope.mapping.EcoMap(width=800, height=600), color=colors\n",
    ")\n",
    "m.zoom_to_gdf(movbank_relocations_gdf)\n",
    "\n",
    "m.add_legend(\n",
    "    title=\"Is Night\", legend_dict={True: \"292965\", False: \"e7a553\"}, box_position={\"bottom\": \"20px\", \"right\": \"20px\"}\n",
    ")\n",
    "m.add_north_arrow(position=\"topright\", scale=1, angle=0)\n",
    "m.add_title(title=\"Day-Night Relocation Map\", align=\"center\", font_size=\"18px\")\n",
    "\n",
    "m"
   ]
  },
  {
   "cell_type": "markdown",
   "metadata": {},
   "source": [
    "## Day-Night Trajectory Map"
   ]
  },
  {
   "cell_type": "code",
   "execution_count": null,
   "metadata": {},
   "outputs": [],
   "source": [
    "movbank_trajectory_gdf = ecoscope.base.Trajectory.from_relocations(movbank_relocations_gdf)\n",
    "movbank_traj_seg_filter = ecoscope.base.TrajSegFilter(\n",
    "    min_length_meters=0.0,\n",
    "    max_length_meters=float(\"inf\"),\n",
    "    min_time_secs=0.0,\n",
    "    max_time_secs=4 * 60 * 60,\n",
    "    min_speed_kmhr=0.0,\n",
    "    max_speed_kmhr=10.0,\n",
    ")\n",
    "movbank_trajectory_gdf.apply_traj_filter(movbank_traj_seg_filter, inplace=True)"
   ]
  },
  {
   "cell_type": "code",
   "execution_count": null,
   "metadata": {},
   "outputs": [],
   "source": [
    "colors = [\"#292965\" if is_night else \"#e7a553\" for is_night in movbank_trajectory_gdf.extra__is_night]\n",
    "\n",
    "m = movbank_trajectory_gdf[[\"groupby_col\", \"segment_start\", \"segment_end\", \"geometry\", \"extra__is_night\"]].explore(\n",
    "    color=colors, m=ecoscope.mapping.EcoMap(width=800, height=600)\n",
    ")\n",
    "m.zoom_to_gdf(movbank_trajectory_gdf)\n",
    "\n",
    "m.add_legend(\n",
    "    title=\"Is Night\", legend_dict={True: \"292965\", False: \"e7a553\"}, box_position={\"bottom\": \"20px\", \"right\": \"20px\"}\n",
    ")\n",
    "m.add_north_arrow(position=\"topright\", scale=1, angle=0)\n",
    "m.add_title(title=\"Day-Night Trajectory Map\", align=\"center\", font_size=\"18px\")\n",
    "\n",
    "m"
   ]
  },
  {
   "cell_type": "markdown",
   "metadata": {},
   "source": [
    "## Speed Map"
   ]
  },
  {
   "cell_type": "code",
   "execution_count": null,
   "metadata": {},
   "outputs": [],
   "source": [
    "m = ecoscope.mapping.EcoMap()\n",
    "m.add_speedmap(trajectory=movbank_trajectory_gdf, classification_method=\"equal_interval\", num_classes=6, bins=None)\n",
    "m.add_north_arrow(position=\"topright\", scale=1, angle=0)\n",
    "m.add_title(title=\"Elephant Speed Map\", align=\"center\", font_size=\"18px\")\n",
    "m.zoom_to_gdf(movbank_trajectory_gdf)\n",
    "\n",
    "m"
   ]
  },
  {
   "cell_type": "markdown",
   "metadata": {},
   "source": [
    "## ETD Range"
   ]
  },
  {
   "cell_type": "code",
   "execution_count": null,
   "metadata": {},
   "outputs": [],
   "source": [
    "raster_profile = ecoscope.io.raster.RasterProfile(\n",
    "    pixel_size=250.0,  # You may need to reduce grid size if you receive a warning during the calculation\n",
    "    crs=\"ESRI:102022\",  # Albers Africa Equal Area Conic\n",
    "    nodata_value=np.nan,\n",
    "    band_count=1,\n",
    ")"
   ]
  },
  {
   "cell_type": "code",
   "execution_count": null,
   "metadata": {},
   "outputs": [],
   "source": [
    "def f(trajectory_gdf):\n",
    "    output_path = os.path.join(output_dir, f\"{trajectory_gdf.name}.tif\")\n",
    "\n",
    "    ecoscope.analysis.UD.calculate_etd_range(\n",
    "        trajectory_gdf=trajectory_gdf,\n",
    "        output_path=output_path,\n",
    "        max_speed_kmhr=1.05 * trajectory_gdf.speed_kmhr.max(),  # Choose a value above the max recorded segment speed\n",
    "        raster_profile=raster_profile,\n",
    "        expansion_factor=1.3,\n",
    "    )\n",
    "    return output_path\n",
    "\n",
    "\n",
    "etd = movbank_trajectory_gdf.groupby(\"groupby_col\").apply(f)"
   ]
  },
  {
   "cell_type": "code",
   "execution_count": null,
   "metadata": {},
   "outputs": [],
   "source": [
    "percentile_areas = ecoscope.analysis.get_percentile_area(\n",
    "    percentile_levels=[50, 60, 70, 80, 90, 99.9], raster_path=etd.at[\"Salif Keita\"], subject_id=\"Salif Keita\"\n",
    ").to_crs(4326)\n",
    "\n",
    "m = ecoscope.mapping.EcoMap(width=800, height=600, static=True)\n",
    "m.add_gdf(percentile_areas, column=\"percentile\", cmap=\"RdYlGn\")\n",
    "m.zoom_to_gdf(percentile_areas)\n",
    "\n",
    "m.add_title(title=\"Salif ETD Range\", align=\"center\", font_size=\"18px\")\n",
    "m.add_north_arrow(position=\"topleft\", scale=1, angle=0)\n",
    "\n",
    "m"
   ]
  },
  {
   "cell_type": "markdown",
   "metadata": {},
   "source": [
    "## Export"
   ]
  },
  {
   "cell_type": "markdown",
   "metadata": {},
   "source": [
    "### As HTML"
   ]
  },
  {
   "cell_type": "code",
   "execution_count": null,
   "metadata": {},
   "outputs": [],
   "source": [
    "m.to_html(os.path.join(output_dir, \"ecomap.html\"))"
   ]
  },
  {
   "cell_type": "markdown",
   "metadata": {},
   "source": [
    "### As PNG"
   ]
  },
  {
   "cell_type": "code",
   "execution_count": null,
   "metadata": {},
   "outputs": [],
   "source": [
    "m.to_png(os.path.join(output_dir, \"ecomap.png\"))"
   ]
  }
 ],
 "metadata": {
  "kernelspec": {
   "display_name": "Python 3 (ipykernel)",
   "language": "python",
   "name": "python3"
  },
  "language_info": {
   "codemirror_mode": {
    "name": "ipython",
    "version": 3
   },
   "file_extension": ".py",
   "mimetype": "text/x-python",
   "name": "python",
   "nbconvert_exporter": "python",
   "pygments_lexer": "ipython3",
   "version": "3.10.12"
  }
 },
 "nbformat": 4,
 "nbformat_minor": 4
}
