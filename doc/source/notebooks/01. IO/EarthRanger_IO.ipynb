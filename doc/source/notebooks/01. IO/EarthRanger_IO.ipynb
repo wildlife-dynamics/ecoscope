{
 "cells": [
  {
   "cell_type": "markdown",
   "metadata": {},
   "source": [
    "# EarthRanger IO"
   ]
  },
  {
   "cell_type": "markdown",
   "metadata": {},
   "source": [
    "## Setup"
   ]
  },
  {
   "cell_type": "markdown",
   "metadata": {},
   "source": [
    "### Ecoscope"
   ]
  },
  {
   "cell_type": "code",
   "execution_count": null,
   "metadata": {
    "tags": []
   },
   "outputs": [],
   "source": [
    "%pip install 'ecoscope[analysis,mapping,plotting] @ git+https://github.com/wildlife-dynamics/ecoscope@v1.8.4' &> /dev/null"
   ]
  },
  {
   "cell_type": "code",
   "execution_count": null,
   "metadata": {
    "tags": []
   },
   "outputs": [],
   "source": [
    "import getpass\n",
    "import os\n",
    "import sys\n",
    "\n",
    "import geopandas as gpd\n",
    "import pandas as pd\n",
    "from erclient.client import ERClientException\n",
    "from shapely.geometry import Point\n",
    "\n",
    "import ecoscope\n",
    "\n",
    "ecoscope.init()"
   ]
  },
  {
   "cell_type": "markdown",
   "metadata": {},
   "source": [
    "### Google Drive Setup"
   ]
  },
  {
   "cell_type": "code",
   "execution_count": null,
   "metadata": {
    "tags": []
   },
   "outputs": [],
   "source": [
    "output_dir = \"Ecoscope-Outputs\"\n",
    "\n",
    "if \"google.colab\" in sys.modules:\n",
    "    from google.colab import drive\n",
    "\n",
    "    drive.mount(\"/content/drive/\", force_remount=True)\n",
    "    output_dir = os.path.join(\"/content/drive/MyDrive/\", output_dir)\n",
    "\n",
    "os.makedirs(output_dir, exist_ok=True)"
   ]
  },
  {
   "cell_type": "markdown",
   "metadata": {},
   "source": [
    "### Connect to EarthRanger"
   ]
  },
  {
   "cell_type": "code",
   "execution_count": null,
   "metadata": {
    "tags": []
   },
   "outputs": [],
   "source": [
    "ER_SERVER = os.getenv(\"ER_SERVER\", \"https://mep-dev.pamdas.org\")\n",
    "ER_USERNAME = os.getenv(\"ER_USERNAME\", \"username\")  # replace with your username\n",
    "\n",
    "ER_PASSWORD = os.getenv(\"ER_PASSWORD\", \"\")\n",
    "\n",
    "if not ER_PASSWORD:\n",
    "    ER_PASSWORD = getpass.getpass(\"Please enter your ER password: \")\n",
    "\n",
    "er_io = ecoscope.io.EarthRangerIO(\n",
    "    server=ER_SERVER,\n",
    "    username=ER_USERNAME,\n",
    "    password=ER_PASSWORD,\n",
    "    tcp_limit=5,\n",
    "    sub_page_size=4000,\n",
    ")"
   ]
  },
  {
   "cell_type": "markdown",
   "metadata": {},
   "source": [
    "## GET `Event`"
   ]
  },
  {
   "cell_type": "markdown",
   "metadata": {},
   "source": [
    "### By `event_ids`\n",
    "Use this approach to download an individual `Event` if you know its id. Downloading from multiple ids at once is not currently supported in ER."
   ]
  },
  {
   "cell_type": "code",
   "execution_count": null,
   "metadata": {
    "tags": []
   },
   "outputs": [],
   "source": [
    "er_io.get_events(\n",
    "    event_ids=\"76e76c8c-0936-4ef4-9298-0cbd4f516a9c\",  # Distance count event\n",
    ")"
   ]
  },
  {
   "cell_type": "markdown",
   "metadata": {},
   "source": [
    "### By `event_type`\n",
    "Use this approach if you want to download events of a given event type (using the EventType ID from ER)"
   ]
  },
  {
   "cell_type": "code",
   "execution_count": null,
   "metadata": {},
   "outputs": [],
   "source": [
    "df_event_types = pd.DataFrame(er_io.get_event_types())\n",
    "mepdev_distance_count_id = df_event_types[df_event_types[\"value\"] == \"mepdev_distance_count\"][\"id\"].values[0]\n",
    "mepdev_distance_count_id"
   ]
  },
  {
   "cell_type": "code",
   "execution_count": null,
   "metadata": {},
   "outputs": [],
   "source": [
    "er_io.get_events(\n",
    "    event_type=[mepdev_distance_count_id],  # MEP Distance Count\n",
    "    since=pd.Timestamp(\"2023-01-01\").isoformat(),\n",
    "    until=pd.Timestamp(\"2024-01-01\").isoformat(),\n",
    ").reset_index()"
   ]
  },
  {
   "cell_type": "markdown",
   "metadata": {},
   "source": [
    "### Unpack `event_details` column of `JSON` data into individual columns"
   ]
  },
  {
   "cell_type": "code",
   "execution_count": null,
   "metadata": {},
   "outputs": [],
   "source": [
    "df_event_types = pd.DataFrame(er_io.get_event_types())\n",
    "mepdev_distance_survey_id = df_event_types[df_event_types[\"value\"] == \"mepdev_distance_count\"][\"id\"].values[0]\n",
    "mepdev_distance_survey_id"
   ]
  },
  {
   "cell_type": "code",
   "execution_count": null,
   "metadata": {},
   "outputs": [],
   "source": [
    "events_df = er_io.get_events(event_type=[mepdev_distance_survey_id])  # MEP Distance Survey Count\n",
    "events_df.event_details"
   ]
  },
  {
   "cell_type": "code",
   "execution_count": null,
   "metadata": {},
   "outputs": [],
   "source": [
    "ecoscope.io.earthranger_utils.normalize_column(events_df, \"event_details\")\n",
    "events_df"
   ]
  },
  {
   "cell_type": "markdown",
   "metadata": {},
   "source": [
    "## POST `Event`\n",
    "\n",
    "First delete any existing events:"
   ]
  },
  {
   "cell_type": "code",
   "execution_count": null,
   "metadata": {},
   "outputs": [],
   "source": [
    "df_event_types = pd.DataFrame(er_io.get_event_types())\n",
    "carcass_id = df_event_types[df_event_types[\"value\"] == \"carcass_rep\"][\"id\"].values[0]\n",
    "carcass_id"
   ]
  },
  {
   "cell_type": "code",
   "execution_count": null,
   "metadata": {},
   "outputs": [],
   "source": [
    "try:\n",
    "    event_df = er_io.get_events(\n",
    "        event_type=[carcass_id],  # Carcass\n",
    "    ).reset_index()\n",
    "    for i, value in event_df.iterrows():\n",
    "        er_io.delete_event(event_id=event_df.loc[i, \"id\"])\n",
    "except AssertionError:\n",
    "    print(\"No events exist yet\")"
   ]
  },
  {
   "cell_type": "markdown",
   "metadata": {},
   "source": [
    "Define events to be uploaded:"
   ]
  },
  {
   "cell_type": "code",
   "execution_count": null,
   "metadata": {},
   "outputs": [],
   "source": [
    "new_event = [\n",
    "    {\n",
    "        \"event_details\": {\n",
    "            \"carcassrep_ageofanimal\": None,\n",
    "            \"carcassrep_ageofcarcass\": None,\n",
    "            \"carcassrep_causeofdeath\": None,\n",
    "            \"carcassrep_sex\": None,\n",
    "            \"carcassrep_species\": None,\n",
    "            \"carcassrep_trophystatus\": None,\n",
    "        },\n",
    "        \"event_type\": \"carcass_rep\",\n",
    "        \"icon_id\": \"carcass_rep\",\n",
    "        \"id\": \"e29f9078-ee0a-4f06-b685-92e9ff266e9b\",\n",
    "        \"location\": {\"latitude\": -27.12759, \"longitude\": -109.40804},\n",
    "        \"priority\": 100,\n",
    "        \"state\": \"resolved\",\n",
    "        \"time\": pd.Timestamp(\"2022-03-15 15:44:00-0700\"),\n",
    "        \"title\": \"Carcass\",\n",
    "    }\n",
    "]"
   ]
  },
  {
   "cell_type": "markdown",
   "metadata": {},
   "source": [
    "Read events as dataframe:"
   ]
  },
  {
   "cell_type": "code",
   "execution_count": null,
   "metadata": {},
   "outputs": [],
   "source": [
    "new_event_df = pd.DataFrame.from_dict(new_event)\n",
    "new_event_df"
   ]
  },
  {
   "cell_type": "markdown",
   "metadata": {},
   "source": [
    "Upload:"
   ]
  },
  {
   "cell_type": "code",
   "execution_count": null,
   "metadata": {},
   "outputs": [],
   "source": [
    "try:\n",
    "    er_io.post_event(events=new_event_df.iloc[[0]])\n",
    "except ERClientException as e:\n",
    "    print(e)"
   ]
  },
  {
   "cell_type": "markdown",
   "metadata": {},
   "source": [
    "## PATCH `Event`\n",
    "\n",
    "Define updated values"
   ]
  },
  {
   "cell_type": "code",
   "execution_count": null,
   "metadata": {},
   "outputs": [],
   "source": [
    "updated_event = pd.DataFrame(\n",
    "    [\n",
    "        {\n",
    "            \"event_details\": {\n",
    "                \"carcassrep_ageofanimal\": \"adult\",\n",
    "                \"carcassrep_ageofcarcass\": \"less_than_a_day\",\n",
    "                \"carcassrep_causeofdeath\": \"unnaturalshot\",\n",
    "                \"carcassrep_sex\": \"female\",\n",
    "                \"carcassrep_species\": \"elephant\",\n",
    "                \"carcassrep_trophystatus\": \"removed\",\n",
    "            }\n",
    "        }\n",
    "    ]\n",
    ")"
   ]
  },
  {
   "cell_type": "markdown",
   "metadata": {},
   "source": [
    "Get and display current values"
   ]
  },
  {
   "cell_type": "code",
   "execution_count": null,
   "metadata": {},
   "outputs": [],
   "source": [
    "event_df = er_io.get_events(\n",
    "    event_type=[\"b0d66402-34cb-4e9a-9715-2ac4eeebb574\"],  # Carcass\n",
    ").reset_index()\n",
    "\n",
    "event_df.loc[0, \"event_details\"]"
   ]
  },
  {
   "cell_type": "markdown",
   "metadata": {},
   "source": [
    "Patch and confirm values have been updated"
   ]
  },
  {
   "cell_type": "code",
   "execution_count": null,
   "metadata": {},
   "outputs": [],
   "source": [
    "id_to_patch = event_df.loc[0, \"id\"]\n",
    "er_io.patch_event(event_id=id_to_patch, events=updated_event).loc[0, \"event_details\"]"
   ]
  },
  {
   "cell_type": "markdown",
   "metadata": {},
   "source": [
    "## GET `Subjects`"
   ]
  },
  {
   "cell_type": "markdown",
   "metadata": {},
   "source": [
    "### by `id`"
   ]
  },
  {
   "cell_type": "code",
   "execution_count": null,
   "metadata": {},
   "outputs": [],
   "source": [
    "df_subjects = er_io.get_subjects()\n",
    "habiba_id = df_subjects[df_subjects[\"name\"] == \"Habiba\"][\"id\"].values[0]\n",
    "habiba_id"
   ]
  },
  {
   "cell_type": "code",
   "execution_count": null,
   "metadata": {},
   "outputs": [],
   "source": [
    "er_io.get_subjects(id=habiba_id)  # Habiba"
   ]
  },
  {
   "cell_type": "markdown",
   "metadata": {},
   "source": [
    "### By `SubjectGroup` `subject_group_name`"
   ]
  },
  {
   "cell_type": "code",
   "execution_count": null,
   "metadata": {},
   "outputs": [],
   "source": [
    "er_io.get_subjects(subject_group_name=\"Elephants\")"
   ]
  },
  {
   "cell_type": "markdown",
   "metadata": {},
   "source": [
    "## GET `Observations`\n",
    "\n",
    "The output is an Ecoscope `Relocations` dataframe that has a core set of columns: `groupby_col`, `fixtime`, `junk_status`.\n",
    "\n",
    "All other columns are prepended by `extra__`. The `groupby_col` will be the `subject_id` and the index of the dataframe is the observation indices.\n",
    "\n",
    "Classic ER `Observation` format can be returned by passing in parameter `relocations=False`.\n",
    "\n",
    "Filter observation by setting `filter` to one of: None, 0, 1, 2 or 3\n",
    "- None returns everything\n",
    "- 0 filters out everything but observations with exclusion flag 0 (Pass back clean data)\n",
    "- 1 filters out everything but observations with exclusion flag 1 (Pass back manually filtered data)\n",
    "- 2 filters out everything but observations with exclusion flag 2 (Ppass back automatically filtered data)\n",
    "- 3 filters out everything but observations with exclusion flag 2 or 1 (Pass back both manual and automatic filtered data)"
   ]
  },
  {
   "cell_type": "markdown",
   "metadata": {},
   "source": [
    "### By `SubjectGroup` `subject_group_name`:"
   ]
  },
  {
   "cell_type": "code",
   "execution_count": null,
   "metadata": {},
   "outputs": [],
   "source": [
    "since = pd.Timestamp(\"2008-01-01\").isoformat()\n",
    "until = pd.Timestamp(\"2020-01-01\").isoformat()"
   ]
  },
  {
   "cell_type": "code",
   "execution_count": null,
   "metadata": {},
   "outputs": [],
   "source": [
    "relocs = er_io.get_subjectgroup_observations(\n",
    "    subject_group_name=\"Elephants\",\n",
    "    filter=0,\n",
    "    since=since,\n",
    "    until=until,\n",
    "    include_details=True,\n",
    "    include_inactive=True,\n",
    "    include_source_details=True,\n",
    "    include_subject_details=True,\n",
    "    include_subjectsource_details=True,\n",
    ")\n",
    "relocs"
   ]
  },
  {
   "cell_type": "markdown",
   "metadata": {},
   "source": [
    "### By `subject_id`"
   ]
  },
  {
   "cell_type": "code",
   "execution_count": null,
   "metadata": {},
   "outputs": [],
   "source": [
    "df_subjects = er_io.get_subjects()\n",
    "habiba_id = df_subjects[df_subjects[\"name\"] == \"Habiba\"][\"id\"].values[0]\n",
    "salif_keita_id = df_subjects[df_subjects[\"name\"] == \"Salif Keita\"][\"id\"].values[0]\n",
    "habiba_id, salif_keita_id"
   ]
  },
  {
   "cell_type": "code",
   "execution_count": null,
   "metadata": {},
   "outputs": [],
   "source": [
    "relocs = er_io.get_subject_observations(\n",
    "    subject_ids=[\n",
    "        habiba_id,  # Habiba\n",
    "        salif_keita_id,  # Salif Keita\n",
    "    ],\n",
    "    since=since,\n",
    "    until=until,\n",
    "    filter=0,\n",
    "    include_details=True,\n",
    "    include_subject_details=True,\n",
    "    include_source_details=True,\n",
    "    include_subjectsource_details=True,\n",
    ")\n",
    "relocs"
   ]
  },
  {
   "cell_type": "markdown",
   "metadata": {},
   "source": [
    "### By `source_id`"
   ]
  },
  {
   "cell_type": "code",
   "execution_count": null,
   "metadata": {},
   "outputs": [],
   "source": [
    "df_sources = er_io.get_sources()\n",
    "habiba_source_id = df_sources[df_sources[\"manufacturer_id\"] == \"ST-Habiba\"][\"id\"].values[0]\n",
    "salif_keita_source_id = df_sources[df_sources[\"manufacturer_id\"] == \"ST-SalifKeita\"][\"id\"].values[0]\n",
    "habiba_source_id, salif_keita_source_id"
   ]
  },
  {
   "cell_type": "code",
   "execution_count": null,
   "metadata": {},
   "outputs": [],
   "source": [
    "df_sources = er_io.get_sources()\n",
    "\n",
    "relocs = er_io.get_source_observations(\n",
    "    source_ids=[\n",
    "        habiba_source_id,  # Habiba's Source\n",
    "        salif_keita_source_id,  # Salif Keita's Source\n",
    "    ],\n",
    "    since=since,\n",
    "    until=until,\n",
    "    filter=0,\n",
    "    include_details=True,\n",
    "    include_source_details=True,\n",
    ")\n",
    "relocs"
   ]
  },
  {
   "cell_type": "markdown",
   "metadata": {},
   "source": [
    "## GET `Patrols`"
   ]
  },
  {
   "cell_type": "code",
   "execution_count": null,
   "metadata": {},
   "outputs": [],
   "source": [
    "df_patrol_types = er_io.get_patrol_types().reset_index()\n",
    "mep_distance_id = df_patrol_types[df_patrol_types[\"value\"] == \"MEP_Distance_Survey_Patrol\"][\"id\"].values[0]\n",
    "mep_distance_id"
   ]
  },
  {
   "cell_type": "code",
   "execution_count": null,
   "metadata": {},
   "outputs": [],
   "source": [
    "er_io.get_patrols(patrol_type=[mep_distance_id])  # MEP Distance Count Survey"
   ]
  },
  {
   "cell_type": "markdown",
   "metadata": {},
   "source": [
    "## GET `Observations` for a `Patrol`"
   ]
  },
  {
   "cell_type": "code",
   "execution_count": null,
   "metadata": {},
   "outputs": [],
   "source": [
    "patrol_df = er_io.get_patrols(\n",
    "    since=pd.Timestamp(\"2017-01-01\").isoformat(),\n",
    "    until=pd.Timestamp(\"2017-04-01\").isoformat(),\n",
    ")\n",
    "\n",
    "\n",
    "relocs = er_io.get_patrol_observations(\n",
    "    patrol_df,\n",
    "    include_patrol_details=True,\n",
    "    include_source_details=True,\n",
    "    include_subject_details=True,\n",
    "    include_subjectsource_details=True,\n",
    ")\n",
    "relocs"
   ]
  },
  {
   "cell_type": "markdown",
   "metadata": {},
   "source": [
    "## GET `SPATIAL FEATURES`"
   ]
  },
  {
   "cell_type": "markdown",
   "metadata": {},
   "source": [
    "### GET `SPATIAL FEATURE` from `spatial_feature_id`"
   ]
  },
  {
   "cell_type": "code",
   "execution_count": null,
   "metadata": {},
   "outputs": [],
   "source": [
    "spatial_feature = er_io.get_spatial_feature(spatial_feature_id=\"8868718f-0154-45bf-a74d-a66706ef958f\")\n",
    "spatial_feature"
   ]
  },
  {
   "cell_type": "markdown",
   "metadata": {},
   "source": [
    "### GET `SPATIAL FEATURES` from `spatial_features_group_id`"
   ]
  },
  {
   "cell_type": "code",
   "execution_count": null,
   "metadata": {},
   "outputs": [],
   "source": [
    "spatial_features = er_io.get_spatial_features_group(spatial_features_group_id=\"15698426-7e0f-41df-9bc3-495d87e2e097\")\n",
    "spatial_features"
   ]
  },
  {
   "cell_type": "markdown",
   "metadata": {},
   "source": [
    "## GET `Users`"
   ]
  },
  {
   "cell_type": "code",
   "execution_count": null,
   "metadata": {},
   "outputs": [],
   "source": [
    "df = pd.DataFrame(er_io.get_users())\n",
    "df"
   ]
  },
  {
   "cell_type": "markdown",
   "metadata": {},
   "source": [
    "## POST `Observation`"
   ]
  },
  {
   "cell_type": "markdown",
   "metadata": {},
   "source": [
    "First delete any existing observations"
   ]
  },
  {
   "cell_type": "code",
   "execution_count": null,
   "metadata": {},
   "outputs": [],
   "source": [
    "elephants = er_io.get_subjectgroup_observations(\n",
    "    subject_group_name=\"Elephants\", since=pd.Timestamp(\"2022-01-01\").isoformat()\n",
    ")\n",
    "\n",
    "if not elephants.empty:\n",
    "    for observation_id in elephants[\"extra__id\"].unique():\n",
    "        er_io.delete_observation(observation_id)"
   ]
  },
  {
   "cell_type": "markdown",
   "metadata": {},
   "source": [
    "Create new observations from existing sources"
   ]
  },
  {
   "cell_type": "code",
   "execution_count": null,
   "metadata": {},
   "outputs": [],
   "source": [
    "df_sources = er_io.get_sources()\n",
    "habiba_source_id = df_sources[df_sources[\"manufacturer_id\"] == \"ST-Habiba\"][\"id\"].values[0]\n",
    "salif_keita_source_id = df_sources[df_sources[\"manufacturer_id\"] == \"ST-SalifKeita\"][\"id\"].values[0]\n",
    "habiba_source_id, salif_keita_source_id"
   ]
  },
  {
   "cell_type": "code",
   "execution_count": null,
   "metadata": {},
   "outputs": [],
   "source": [
    "observations = [\n",
    "    {\n",
    "        \"fixtime\": pd.Timestamp(\"2023-04-24 11:03:31\").isoformat(),\n",
    "        \"geometry\": Point(1.99, 2.99),\n",
    "        \"source_id\": habiba_source_id,  # Habiba's source\n",
    "    },\n",
    "    {\n",
    "        \"fixtime\": pd.Timestamp(\"2023-02-01 14:02:05\").isoformat(),\n",
    "        \"geometry\": Point(1.345, 2.3303),\n",
    "        \"source_id\": habiba_source_id,  # Habiba's source\n",
    "    },\n",
    "    {\n",
    "        \"fixtime\": pd.Timestamp(\"2023-03-21 06:03:27\").isoformat(),\n",
    "        \"geometry\": Point(3.4455, -3.4554),\n",
    "        \"source_id\": salif_keita_source_id,  # Salif Keita's source\n",
    "    },\n",
    "]\n",
    "\n",
    "gdf = gpd.GeoDataFrame.from_dict(observations)\n",
    "gdf"
   ]
  },
  {
   "cell_type": "markdown",
   "metadata": {},
   "source": [
    "Post observations"
   ]
  },
  {
   "cell_type": "code",
   "execution_count": null,
   "metadata": {},
   "outputs": [],
   "source": [
    "er_io.post_observations(observations=gdf, source_id_col=\"source_id\", recorded_at_col=\"fixtime\")"
   ]
  },
  {
   "cell_type": "markdown",
   "metadata": {},
   "source": [
    "## POST `SubjectSource`"
   ]
  },
  {
   "cell_type": "code",
   "execution_count": null,
   "metadata": {},
   "outputs": [],
   "source": [
    "df_subjects = er_io.get_subjects()\n",
    "salif_keita_id = df_subjects[df_subjects[\"name\"] == \"Salif Keita\"][\"id\"].values[0]\n",
    "\n",
    "df_sources = er_io.get_sources()\n",
    "salif_keita_source_id = df_sources[df_sources[\"manufacturer_id\"] == \"ST-SalifKeita\"][\"id\"].values[0]\n",
    "\n",
    "salif_keita_id, salif_keita_source_id"
   ]
  },
  {
   "cell_type": "code",
   "execution_count": null,
   "metadata": {},
   "outputs": [],
   "source": [
    "er_io.post_subjectsource(\n",
    "    salif_keita_id,  # Salif Keita subject ID\n",
    "    source_id=salif_keita_source_id,  # Salif Keita's source\n",
    "    lower_bound_assigned_range=pd.Timestamp.utcnow().isoformat(),\n",
    "    upper_bound_assigned_range=(pd.Timestamp.utcnow() + pd.Timedelta(days=9000)).isoformat(),\n",
    "    additional={},\n",
    ")"
   ]
  },
  {
   "cell_type": "markdown",
   "metadata": {},
   "source": [
    "## Export to File"
   ]
  },
  {
   "cell_type": "markdown",
   "metadata": {},
   "source": [
    "### Create test data\n",
    "\n",
    "Skip this cell if you would like to provide your own data"
   ]
  },
  {
   "cell_type": "code",
   "execution_count": null,
   "metadata": {},
   "outputs": [],
   "source": [
    "relocs = er_io.get_subjectgroup_observations(\n",
    "    subject_group_name=\"Elephants\",\n",
    "    filter=0,\n",
    "    since=since,\n",
    "    until=until,\n",
    "    include_details=True,\n",
    "    include_inactive=True,\n",
    "    include_source_details=True,\n",
    "    include_subject_details=True,\n",
    "    include_subjectsource_details=True,\n",
    ")\n",
    "relocs"
   ]
  },
  {
   "cell_type": "markdown",
   "metadata": {},
   "source": [
    "### GeoPackage (.gpkg)\n",
    "(GeoPackage does not support columns with type `list` so we `drop` them.)"
   ]
  },
  {
   "cell_type": "code",
   "execution_count": null,
   "metadata": {},
   "outputs": [],
   "source": [
    "relocs = relocs.select_dtypes(exclude=[list])\n",
    "\n",
    "relocs.to_file(os.path.join(output_dir, \"observations.gpkg\"), layer=\"observations\")"
   ]
  },
  {
   "cell_type": "markdown",
   "metadata": {},
   "source": [
    "### CSV"
   ]
  },
  {
   "cell_type": "code",
   "execution_count": null,
   "metadata": {},
   "outputs": [],
   "source": [
    "relocs.to_csv(os.path.join(output_dir, \"observations.csv\"))"
   ]
  },
  {
   "cell_type": "markdown",
   "metadata": {},
   "source": [
    "### Python Pickle (.pkl)"
   ]
  },
  {
   "cell_type": "code",
   "execution_count": null,
   "metadata": {},
   "outputs": [],
   "source": [
    "relocs.to_pickle(os.path.join(output_dir, \"observations.pkl\"))"
   ]
  },
  {
   "cell_type": "markdown",
   "metadata": {},
   "source": [
    "### Apache Feather (.feather)"
   ]
  },
  {
   "cell_type": "code",
   "execution_count": null,
   "metadata": {},
   "outputs": [],
   "source": [
    "relocs.to_feather(os.path.join(output_dir, \"observations.feather\"))"
   ]
  }
 ],
 "metadata": {
  "kernelspec": {
   "display_name": "Python 3 (ipykernel)",
   "language": "python",
   "name": "python3"
  },
  "language_info": {
   "codemirror_mode": {
    "name": "ipython",
    "version": 3
   },
   "file_extension": ".py",
   "mimetype": "text/x-python",
   "name": "python",
   "nbconvert_exporter": "python",
   "pygments_lexer": "ipython3",
   "version": "3.10.12"
  }
 },
 "nbformat": 4,
 "nbformat_minor": 4
}
